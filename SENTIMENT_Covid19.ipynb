{
  "nbformat": 4,
  "nbformat_minor": 0,
  "metadata": {
    "colab": {
      "provenance": [],
      "collapsed_sections": [],
      "authorship_tag": "ABX9TyN98nRKGJTBAkmVgZkYZWAT"
    },
    "kernelspec": {
      "name": "python3",
      "display_name": "Python 3"
    },
    "language_info": {
      "name": "python"
    }
  },
  "cells": [
    {
      "cell_type": "code",
      "execution_count": null,
      "metadata": {
        "id": "L6UOK9jfStdI"
      },
      "outputs": [],
      "source": [
        "import pandas as pd"
      ]
    },
    {
      "cell_type": "code",
      "source": [
        "import matplotlib.pyplot as plt\n",
        "import seaborn as sns\n",
        "import warnings\n",
        "warnings.filterwarnings('ignore')\n",
        "\n"
      ],
      "metadata": {
        "id": "9hmLNklg7W-i"
      },
      "execution_count": null,
      "outputs": []
    },
    {
      "cell_type": "code",
      "source": [
        "df= pd.read_csv('/content/covid19_tweets (1).csv')"
      ],
      "metadata": {
        "id": "yv2VgyzE8SmP"
      },
      "execution_count": null,
      "outputs": []
    },
    {
      "cell_type": "code",
      "source": [
        "df.tail()"
      ],
      "metadata": {
        "colab": {
          "base_uri": "https://localhost:8080/",
          "height": 461
        },
        "id": "XuuVmud0CLzk",
        "outputId": "2100e08d-1246-48af-e446-b562186621bc"
      },
      "execution_count": null,
      "outputs": [
        {
          "output_type": "execute_result",
          "data": {
            "text/plain": [
              "                     user_name               user_location  \\\n",
              "179103  AJIMATI AbdulRahman O.             Ilorin, Nigeria   \n",
              "179104                   Jason                     Ontario   \n",
              "179105             BEEHEMOTH ⏳                   🇨🇦 Canada   \n",
              "179106           Gary DelPonte               New York City   \n",
              "179107                 TUKY II  Aliwal North, South Africa   \n",
              "\n",
              "                                         user_description  \\\n",
              "179103    Animal Scientist|| Muslim|| Real Madrid/Chelsea   \n",
              "179104  When your cat has more baking soda than Ninja ...   \n",
              "179105  ⚒️ The Architects of Free Trade ⚒️ Really Did ...   \n",
              "179106  Global UX UI Visual Designer. StoryTeller, Mus...   \n",
              "179107  TOKELO SEKHOPA | TUKY II | LAST BORN | EISH TU...   \n",
              "\n",
              "               user_created  user_followers  user_friends  user_favourites  \\\n",
              "179103  2013-12-30 18:59:19             412          1609             1062   \n",
              "179104  2011-12-21 04:41:30             150           182             7295   \n",
              "179105  2016-07-13 17:21:59            1623          2160            98000   \n",
              "179106  2009-10-27 17:43:13            1338          1111                0   \n",
              "179107  2018-04-14 17:30:07              97          1697              566   \n",
              "\n",
              "        user_verified                 date  \\\n",
              "179103          False  2020-08-29 19:44:21   \n",
              "179104          False  2020-08-29 19:44:16   \n",
              "179105          False  2020-08-29 19:44:15   \n",
              "179106          False  2020-08-29 19:44:14   \n",
              "179107          False  2020-08-29 19:44:08   \n",
              "\n",
              "                                                     text       hashtags  \\\n",
              "179103  Thanks @IamOhmai for nominating me for the @WH...  ['WearAMask']   \n",
              "179104  2020! The year of insanity! Lol! #COVID19 http...    ['COVID19']   \n",
              "179105  @CTVNews A powerful painting by Juan Lucena. I...            NaN   \n",
              "179106  More than 1,200 students test positive for #CO...    ['COVID19']   \n",
              "179107  I stop when I see a Stop\\n\\n@SABCNews\\n@Izinda...            NaN   \n",
              "\n",
              "                     source  is_retweet  \n",
              "179103  Twitter for Android       False  \n",
              "179104  Twitter for Android       False  \n",
              "179105      Twitter Web App       False  \n",
              "179106   Twitter for iPhone       False  \n",
              "179107  Twitter for Android       False  "
            ],
            "text/html": [
              "\n",
              "  <div id=\"df-b0888935-c55f-4ca3-91d7-28025681046e\">\n",
              "    <div class=\"colab-df-container\">\n",
              "      <div>\n",
              "<style scoped>\n",
              "    .dataframe tbody tr th:only-of-type {\n",
              "        vertical-align: middle;\n",
              "    }\n",
              "\n",
              "    .dataframe tbody tr th {\n",
              "        vertical-align: top;\n",
              "    }\n",
              "\n",
              "    .dataframe thead th {\n",
              "        text-align: right;\n",
              "    }\n",
              "</style>\n",
              "<table border=\"1\" class=\"dataframe\">\n",
              "  <thead>\n",
              "    <tr style=\"text-align: right;\">\n",
              "      <th></th>\n",
              "      <th>user_name</th>\n",
              "      <th>user_location</th>\n",
              "      <th>user_description</th>\n",
              "      <th>user_created</th>\n",
              "      <th>user_followers</th>\n",
              "      <th>user_friends</th>\n",
              "      <th>user_favourites</th>\n",
              "      <th>user_verified</th>\n",
              "      <th>date</th>\n",
              "      <th>text</th>\n",
              "      <th>hashtags</th>\n",
              "      <th>source</th>\n",
              "      <th>is_retweet</th>\n",
              "    </tr>\n",
              "  </thead>\n",
              "  <tbody>\n",
              "    <tr>\n",
              "      <th>179103</th>\n",
              "      <td>AJIMATI AbdulRahman O.</td>\n",
              "      <td>Ilorin, Nigeria</td>\n",
              "      <td>Animal Scientist|| Muslim|| Real Madrid/Chelsea</td>\n",
              "      <td>2013-12-30 18:59:19</td>\n",
              "      <td>412</td>\n",
              "      <td>1609</td>\n",
              "      <td>1062</td>\n",
              "      <td>False</td>\n",
              "      <td>2020-08-29 19:44:21</td>\n",
              "      <td>Thanks @IamOhmai for nominating me for the @WH...</td>\n",
              "      <td>['WearAMask']</td>\n",
              "      <td>Twitter for Android</td>\n",
              "      <td>False</td>\n",
              "    </tr>\n",
              "    <tr>\n",
              "      <th>179104</th>\n",
              "      <td>Jason</td>\n",
              "      <td>Ontario</td>\n",
              "      <td>When your cat has more baking soda than Ninja ...</td>\n",
              "      <td>2011-12-21 04:41:30</td>\n",
              "      <td>150</td>\n",
              "      <td>182</td>\n",
              "      <td>7295</td>\n",
              "      <td>False</td>\n",
              "      <td>2020-08-29 19:44:16</td>\n",
              "      <td>2020! The year of insanity! Lol! #COVID19 http...</td>\n",
              "      <td>['COVID19']</td>\n",
              "      <td>Twitter for Android</td>\n",
              "      <td>False</td>\n",
              "    </tr>\n",
              "    <tr>\n",
              "      <th>179105</th>\n",
              "      <td>BEEHEMOTH ⏳</td>\n",
              "      <td>🇨🇦 Canada</td>\n",
              "      <td>⚒️ The Architects of Free Trade ⚒️ Really Did ...</td>\n",
              "      <td>2016-07-13 17:21:59</td>\n",
              "      <td>1623</td>\n",
              "      <td>2160</td>\n",
              "      <td>98000</td>\n",
              "      <td>False</td>\n",
              "      <td>2020-08-29 19:44:15</td>\n",
              "      <td>@CTVNews A powerful painting by Juan Lucena. I...</td>\n",
              "      <td>NaN</td>\n",
              "      <td>Twitter Web App</td>\n",
              "      <td>False</td>\n",
              "    </tr>\n",
              "    <tr>\n",
              "      <th>179106</th>\n",
              "      <td>Gary DelPonte</td>\n",
              "      <td>New York City</td>\n",
              "      <td>Global UX UI Visual Designer. StoryTeller, Mus...</td>\n",
              "      <td>2009-10-27 17:43:13</td>\n",
              "      <td>1338</td>\n",
              "      <td>1111</td>\n",
              "      <td>0</td>\n",
              "      <td>False</td>\n",
              "      <td>2020-08-29 19:44:14</td>\n",
              "      <td>More than 1,200 students test positive for #CO...</td>\n",
              "      <td>['COVID19']</td>\n",
              "      <td>Twitter for iPhone</td>\n",
              "      <td>False</td>\n",
              "    </tr>\n",
              "    <tr>\n",
              "      <th>179107</th>\n",
              "      <td>TUKY II</td>\n",
              "      <td>Aliwal North, South Africa</td>\n",
              "      <td>TOKELO SEKHOPA | TUKY II | LAST BORN | EISH TU...</td>\n",
              "      <td>2018-04-14 17:30:07</td>\n",
              "      <td>97</td>\n",
              "      <td>1697</td>\n",
              "      <td>566</td>\n",
              "      <td>False</td>\n",
              "      <td>2020-08-29 19:44:08</td>\n",
              "      <td>I stop when I see a Stop\\n\\n@SABCNews\\n@Izinda...</td>\n",
              "      <td>NaN</td>\n",
              "      <td>Twitter for Android</td>\n",
              "      <td>False</td>\n",
              "    </tr>\n",
              "  </tbody>\n",
              "</table>\n",
              "</div>\n",
              "      <button class=\"colab-df-convert\" onclick=\"convertToInteractive('df-b0888935-c55f-4ca3-91d7-28025681046e')\"\n",
              "              title=\"Convert this dataframe to an interactive table.\"\n",
              "              style=\"display:none;\">\n",
              "        \n",
              "  <svg xmlns=\"http://www.w3.org/2000/svg\" height=\"24px\"viewBox=\"0 0 24 24\"\n",
              "       width=\"24px\">\n",
              "    <path d=\"M0 0h24v24H0V0z\" fill=\"none\"/>\n",
              "    <path d=\"M18.56 5.44l.94 2.06.94-2.06 2.06-.94-2.06-.94-.94-2.06-.94 2.06-2.06.94zm-11 1L8.5 8.5l.94-2.06 2.06-.94-2.06-.94L8.5 2.5l-.94 2.06-2.06.94zm10 10l.94 2.06.94-2.06 2.06-.94-2.06-.94-.94-2.06-.94 2.06-2.06.94z\"/><path d=\"M17.41 7.96l-1.37-1.37c-.4-.4-.92-.59-1.43-.59-.52 0-1.04.2-1.43.59L10.3 9.45l-7.72 7.72c-.78.78-.78 2.05 0 2.83L4 21.41c.39.39.9.59 1.41.59.51 0 1.02-.2 1.41-.59l7.78-7.78 2.81-2.81c.8-.78.8-2.07 0-2.86zM5.41 20L4 18.59l7.72-7.72 1.47 1.35L5.41 20z\"/>\n",
              "  </svg>\n",
              "      </button>\n",
              "      \n",
              "  <style>\n",
              "    .colab-df-container {\n",
              "      display:flex;\n",
              "      flex-wrap:wrap;\n",
              "      gap: 12px;\n",
              "    }\n",
              "\n",
              "    .colab-df-convert {\n",
              "      background-color: #E8F0FE;\n",
              "      border: none;\n",
              "      border-radius: 50%;\n",
              "      cursor: pointer;\n",
              "      display: none;\n",
              "      fill: #1967D2;\n",
              "      height: 32px;\n",
              "      padding: 0 0 0 0;\n",
              "      width: 32px;\n",
              "    }\n",
              "\n",
              "    .colab-df-convert:hover {\n",
              "      background-color: #E2EBFA;\n",
              "      box-shadow: 0px 1px 2px rgba(60, 64, 67, 0.3), 0px 1px 3px 1px rgba(60, 64, 67, 0.15);\n",
              "      fill: #174EA6;\n",
              "    }\n",
              "\n",
              "    [theme=dark] .colab-df-convert {\n",
              "      background-color: #3B4455;\n",
              "      fill: #D2E3FC;\n",
              "    }\n",
              "\n",
              "    [theme=dark] .colab-df-convert:hover {\n",
              "      background-color: #434B5C;\n",
              "      box-shadow: 0px 1px 3px 1px rgba(0, 0, 0, 0.15);\n",
              "      filter: drop-shadow(0px 1px 2px rgba(0, 0, 0, 0.3));\n",
              "      fill: #FFFFFF;\n",
              "    }\n",
              "  </style>\n",
              "\n",
              "      <script>\n",
              "        const buttonEl =\n",
              "          document.querySelector('#df-b0888935-c55f-4ca3-91d7-28025681046e button.colab-df-convert');\n",
              "        buttonEl.style.display =\n",
              "          google.colab.kernel.accessAllowed ? 'block' : 'none';\n",
              "\n",
              "        async function convertToInteractive(key) {\n",
              "          const element = document.querySelector('#df-b0888935-c55f-4ca3-91d7-28025681046e');\n",
              "          const dataTable =\n",
              "            await google.colab.kernel.invokeFunction('convertToInteractive',\n",
              "                                                     [key], {});\n",
              "          if (!dataTable) return;\n",
              "\n",
              "          const docLinkHtml = 'Like what you see? Visit the ' +\n",
              "            '<a target=\"_blank\" href=https://colab.research.google.com/notebooks/data_table.ipynb>data table notebook</a>'\n",
              "            + ' to learn more about interactive tables.';\n",
              "          element.innerHTML = '';\n",
              "          dataTable['output_type'] = 'display_data';\n",
              "          await google.colab.output.renderOutput(dataTable, element);\n",
              "          const docLink = document.createElement('div');\n",
              "          docLink.innerHTML = docLinkHtml;\n",
              "          element.appendChild(docLink);\n",
              "        }\n",
              "      </script>\n",
              "    </div>\n",
              "  </div>\n",
              "  "
            ]
          },
          "metadata": {},
          "execution_count": 24
        }
      ]
    },
    {
      "cell_type": "code",
      "source": [
        "df.columns"
      ],
      "metadata": {
        "id": "aOFGh1MVA0pv",
        "colab": {
          "base_uri": "https://localhost:8080/"
        },
        "outputId": "2adf6deb-b1ff-45b7-dcee-50b45b6c0fcc"
      },
      "execution_count": null,
      "outputs": [
        {
          "output_type": "execute_result",
          "data": {
            "text/plain": [
              "Index(['user_name', 'user_location', 'user_description', 'user_created',\n",
              "       'user_followers', 'user_friends', 'user_favourites', 'user_verified',\n",
              "       'date', 'text', 'hashtags', 'source', 'is_retweet'],\n",
              "      dtype='object')"
            ]
          },
          "metadata": {},
          "execution_count": 25
        }
      ]
    },
    {
      "cell_type": "code",
      "source": [
        "df.dtypes"
      ],
      "metadata": {
        "colab": {
          "base_uri": "https://localhost:8080/"
        },
        "id": "HJZVkqBxEELm",
        "outputId": "c0b63e71-eed5-45a2-80a7-226507d3edb5"
      },
      "execution_count": null,
      "outputs": [
        {
          "output_type": "execute_result",
          "data": {
            "text/plain": [
              "user_name           object\n",
              "user_location       object\n",
              "user_description    object\n",
              "user_created        object\n",
              "user_followers       int64\n",
              "user_friends         int64\n",
              "user_favourites      int64\n",
              "user_verified         bool\n",
              "date                object\n",
              "text                object\n",
              "hashtags            object\n",
              "source              object\n",
              "is_retweet            bool\n",
              "dtype: object"
            ]
          },
          "metadata": {},
          "execution_count": 26
        }
      ]
    },
    {
      "cell_type": "code",
      "source": [
        "df['source'].unique()"
      ],
      "metadata": {
        "id": "uFmZG3vlEqEl",
        "colab": {
          "base_uri": "https://localhost:8080/"
        },
        "outputId": "31033831-eed6-42e6-f192-731b5bf30db8"
      },
      "execution_count": null,
      "outputs": [
        {
          "output_type": "execute_result",
          "data": {
            "text/plain": [
              "array(['Twitter for iPhone', 'Twitter for Android', 'Twitter Web App',\n",
              "       'Buffer', 'TweetDeck', 'Twitter for iPad', 'Africa Newsroom',\n",
              "       'Blood Donors India', 'TweetCaster for Android',\n",
              "       'Alexander Higgins', 'IFTTT', 'Hootsuite Inc.', 'Sprout Social',\n",
              "       'Sprinklr', 'assarofficial', 'IAMBLOG2TWITTER', 'CrowdControlHQ',\n",
              "       'COVID19-Updates', 'EveryoneSocial', 'Dynamic Signal', 'Instagram',\n",
              "       'TweetCaster for iOS', 'GlobalPandemic.NET', 'Venrap Radio',\n",
              "       'HeyOrca', 'Twitter for Advertisers', 'Paper.li',\n",
              "       'Twitter Media Studio', 'Twitter for Mac', 'dlvr.it',\n",
              "       'Cheap Bots, Done Quick!', 'Prof. Shanku', 'LaterMedia',\n",
              "       'SEMrush Social Media Tool', 'Twitterrific for iOS',\n",
              "       \"Sebastian's Twitter Bot\", 'Threader_client', 'COVID19FactoidBot',\n",
              "       'PwC UK SMART', 'tweet pro stiff', 'UK COVID-19 Alerts',\n",
              "       'Resistbot Open Letters', 'preprint-alert', 'ContentStudio.io',\n",
              "       'Peeping Moon', 'TweetAutomaticos', 'Orlo', 'AgoraPulse Manager',\n",
              "       'Meltwater Social', 'Blog2Social APP',\n",
              "       'Social Genie by Brighter Vision', 'Social Media Publisher App ',\n",
              "       'VoiceToData', 'Hearsay Social', 'Metricool', 'SocialPilot.co',\n",
              "       'Loomly', 'Оwly', 'Facelift-Cloud', 'Khoros', 'Oktopost',\n",
              "       'coronaData_Test', 'SocialOomph', 'SmarterQueue',\n",
              "       'Salesforce - Social Studio', 'Twittimer', 'Dolar Değişti!',\n",
              "       'COVID19 Update', 'LinkedIn', 'Socialbakers',\n",
              "       'Bambu by Sprout Social', 'HubSpot', 'National Herald',\n",
              "       'Twitter Ads', 'twootlk', 'WordPress.com',\n",
              "       'Twitter Media Studio - LiveCut', 'Covid-19 Bot',\n",
              "       'Tweetbot for iΟS', 'Zoho Social', 'Mobile Web (M2)',\n",
              "       'Global Citizen Mobile App', 'whatSaoCarlos', 'Tweetbot for Mac',\n",
              "       'FS Poster', 'rate_twitte', 'corona-recoveries',\n",
              "       'The Social Jukebox', 'ContentCal Studio', 'OneUp App',\n",
              "       'Promo.com', 'TopHashtags', 'autotweet scheduler', 'NepalCorona',\n",
              "       'Khoros Marketing', 'Hocalwire Social Share', 'DataScienceInfo',\n",
              "       'crystalwind.ca', 'SNAP-Homeless Times',\n",
              "       'COVID-19 Information Bot', 'eMartmarket', 'trackingbot2020',\n",
              "       'MeetEdgar', 'Twidere for Android', 'econ b2b post', 'Aleph א ',\n",
              "       'SocialBee.io v2', 'Spreaker', 'ExanteData Robots', 'Mention\\xa0',\n",
              "       'Sked Social', 'Periscope', 'CoronaVirus Bot by Sloth',\n",
              "       'dailyindia', 'Tweet Suite', 'SurveyCircle Team', 'PTI_Tweets',\n",
              "       'Swat.io', 'Restream.io', 'Powered by Sprinklr', 'GT_Backend',\n",
              "       'HN_Comments', '@thedextazlab', 'China Xinhua News', 'ArmeniaITN',\n",
              "       'Crowdfire App', 'Microsoft Power Platform', 'Bitly', 'Echofon',\n",
              "       'Ripl App', 'WPwamnwebsitescript', 'corona_stats',\n",
              "       'CoronaTrackerMY', 'The Tweeted Times', 'Qureet Leads',\n",
              "       'Threat Intel Hub', 'My Khel', 'Falcon Social Media Management ',\n",
              "       'Zapier.com', 'Echobox', 'Scoop.it', 'SocialRabbit Plugin',\n",
              "       'covid19_tracker', 'Cubi.so', 'SocialChamp IO ', 'twittbot.net',\n",
              "       'pixiv: Post to Twitter', 'drumup.io', 'mpsontwitter.co.uk',\n",
              "       'Covid19daily', 'SocialFlow', 'Vattel Tracker Dev',\n",
              "       'Radio.co now playing', 'POST.it - Edit,Share,Rediscover',\n",
              "       'SocialNewsDesk', nan, 'Phone2Action', 'tweeter_biases',\n",
              "       'Heropost', 'rhega.net', 'Nuzzel', 'DR Data', 'Seket Aanru LVLII',\n",
              "       'Grabyo', 'sphere_ja_bot', 'Wildmoka', 'TrackerCV',\n",
              "       \"iContact's Social Tools\", 'Igorotage', 'HWD', 'Mailchimp',\n",
              "       'Sprinklr Publishing', 'Integromat', 'Fabrik.fm',\n",
              "       'Clearview Social, Inc.', 'Friends Me', 'Stuffed Productions',\n",
              "       'Revive Social App', 'Flamingo for Android',\n",
              "       'Microsoft Azure Logic Apps', 'MavSocial App', 'Smarp.',\n",
              "       'UberSocial for Android', 'Missinglettr', 'Canva', 'Talon Android',\n",
              "       'Konnect Social', 'Siargao Guide', 'PinkVilla', 'Penname',\n",
              "       'Kashmir Life', \"Monty's Twitter Reposter\", 'SnapStream TV Search',\n",
              "       'WatchDog Uganda', 'True Anthem', 'MarketingSuite', 'Corona-Stats',\n",
              "       'Twitter for  iPhone', 'Social Head', 'BookClubProTweet',\n",
              "       'covid19_counter', 'PromoRepublic', 'PolitiHUB.us', 'Raven Tools',\n",
              "       'COVID19-Tweet', 'Cancer Health Auto Tweet', 'remote.io',\n",
              "       'Arena.im', 'Isrg', 'Constant Contact', 'Google', 'VegaLms',\n",
              "       'DTR Auto Post', 'CoSchedule', 'COVID19 Daily Stats', 'CovidDay',\n",
              "       'COVID-19MX', 'SmartNews | スマートニュース', 'Spire FM', 'eClincher',\n",
              "       'Typepad', 'Publer ', 'Botbird tweets', 'shankar_live_bot',\n",
              "       'Shauntv', \"Bob's Python tweetbot\", 'Sprinklr Publisher',\n",
              "       'Commun.it Intelligence', 'Nintendo Switch Share',\n",
              "       \"Stalin's Twitter Reposter\", 'WeVideo', 'recurpost.com',\n",
              "       'El Cañonazo de las 9', 'Tweetings for Android', 'JoinDiaspora',\n",
              "       'Post Planner Inc.', 'DopeyUncle2', 'COVIDRecoveredBot',\n",
              "       'Qnary.io', 'Canada Covid-19 Stats', 'Twitter Test App P',\n",
              "       'Nelio Content', 'PlayStation®Network', 'Covid19_MV',\n",
              "       'Postcron App', 'TtwTimes Top News', 'Chicken Nugget',\n",
              "       'Plume\\xa0for\\xa0Android', 'Fenix 2', 'ETRetail.com',\n",
              "       'Campaign Share', 'Postfity.com', 'newsgovhk', 'Sociality.io',\n",
              "       'Echofon  Android', \"Rumpet's Twitter Poster\", 'PostBeyond',\n",
              "       'dnh twitter publisher', 'news_by_gatfil', 'Pardot',\n",
              "       'App for IconicHipster.com', 'CovidUpdatesBot', 'KhuramKTS',\n",
              "       'NIAAuto', 'fovle', 'Imminent News', 'PublishBestNews',\n",
              "       'LFALSNAPAP', 'HW news english', 'StreamElements',\n",
              "       'Mediaproxy LogJam', 'dancehallaudio',\n",
              "       'Liberal Forum Political Chat', 'NippyTweet',\n",
              "       'That Best Home Automation', 'Dear_Assistant', 'Bot Libre!',\n",
              "       'NCoV-19 Tracker', 'tprzechlewski.app', 'DataBlogger',\n",
              "       'POZ Auto Tweet', 'SocialDog for Twitter', 'AtlantaTechBlogs',\n",
              "       'ReadyForSocial App', 'Traject Social', 'abrbuzz',\n",
              "       'Auto-Post (IMW)', 'ME Construction News', 'NetNaija Twiit',\n",
              "       'TrafficChiefNG', 'EUobserver', 'Flote.app', 'aa.com.tr',\n",
              "       'Twitterrific for Mac', 'Bizcommunity.com', 'Covid Robot',\n",
              "       'VoxPop Sync', 'stocktitan', 'StockTwits Web', 'Dr. Kill Pain',\n",
              "       'SociabbleApp', 'Post to Social by SHIFT1', 'PRNewswire',\n",
              "       'Hep Auto Tweet', 'Chorus publishing platform',\n",
              "       'masterdebater.net', 'A Touch of Snark', 'Login CricketCountry',\n",
              "       \"Let's Talk Singapore\", 'RiteKit', 'Etsy', 'Zlappo.com',\n",
              "       'DirectorsTalk Auto Posting', 'GlobalVillageSpace',\n",
              "       'TeamSight Publisher', 'naalikeram', 'Amplifr', 'News Medical',\n",
              "       'Agenparl', 'Hacker Noon', 'Salsa Social Publishing', 'feedspora2',\n",
              "       'Tech_Tee_Shop', 'CensoredTodayPoster', 'Tumblr', 'Weebly App',\n",
              "       'science faction twitter bot', 'SocialHub by maloon', 'PNSposter',\n",
              "       'Social Reputation', 'RSS Masher - Dev', 'Planable', 'Trump OwO',\n",
              "       \"Bongani's Auto Poster\", 'TTYtter', 'BAPSCharities',\n",
              "       'thefivedaily', 'RegulatorWatch.com', 'BrentStafford.com',\n",
              "       'Phil Ammann', 'flapol', 'Squarespace', 'VoiceFeed',\n",
              "       'Libsyn On-Publish', 'Sharpspring', 'Twitseq', 'Social Press Kit',\n",
              "       'Lightful', 'Gain Platform', 'OregonCovidApp',\n",
              "       'Dynamics 365 for Marketing', 'yorkshire-times', 'Contento App',\n",
              "       'XHNorthAmerica', 'ContentMX', 'opendorse', 'Greenfly',\n",
              "       'Freshdesk', 'Triberr', 'EdgeTheory', 'Emma Social Connector',\n",
              "       'POZ Global Auto Tweets', 'likefollowretweet', 'Healio Twitter',\n",
              "       'Partnermarketing.com', 'EnrichrBot', 'Statusbrew',\n",
              "       'Zift Platform', 'Constant Contact - Social Posts', 'Tweepsmap',\n",
              "       'WayScript', 'SoCast Digital', 'allAfrica.com', 'paulcrypto',\n",
              "       'nwindianabusiness.com', 'tc_covid_bot', 'Newry.ie',\n",
              "       'SPTK: DVOrangeCounty', 'cmsoc', 'VoterVoice Tweet', 'Rallio',\n",
              "       'FalconPro3', 'Cloud Campaign', 'RelojesESP', 'Socialchief',\n",
              "       'SpaceRefTweet', 'PLAYLOADED.COM', 'TD Wealth Social Centre',\n",
              "       'covid19oceanupdate', 'Janetter Pro for Android',\n",
              "       'Fortinet Partner Social', 'Emphatic', 'BLOX CMS',\n",
              "       'Onollo Software', 'GCCHD', 'floridapolitics.com', 'Web lider',\n",
              "       'SOCi - Simplifying Social Media', 'Contentpilot', 'ayasetenchi',\n",
              "       'Chimpify', \"K's posts\", 'Downtime Monkey', 'COVID19TwitterKenya',\n",
              "       'Quotes as image', 'Lead Accel', 'Streamlabs Twitter',\n",
              "       'Dynamic Tweets', 'LatelyAI', 'Foursquare', 'Maat_Interface',\n",
              "       'coronaBot-Purvesh', 'OneCMS Social Connect', 'BTCNbot',\n",
              "       'InterfaceCDM', 'QuickTake by Bloomberg', 'Fan Page Robot',\n",
              "       'Hypefury', 'VotepledgeBot', 'covidestimates',\n",
              "       'Phone2Action Advocacy', 'Enthusiast97', 'NewsAutocorrect',\n",
              "       'Ohhtweet', 'TheLancsTimes', 'TW Blue', 'Apphi',\n",
              "       'Canada COVID-19 Bot', 'standard3d', 'chirr.app',\n",
              "       'GearGuide Twitter', 'SlackSocial', 'Pressenza IPA eng',\n",
              "       'SiteAssist Social Posting', 'ZenRud', 'ThreadReaderApp',\n",
              "       'Cognitive Website', 'UNIAN.info', 'UNIAN Info',\n",
              "       'Tech Nation News updates', 'Fenix for Android', 'Percolate',\n",
              "       'GroupTweet', 'Social Aider', 'CyberSecDN v.2',\n",
              "       'Inclusibot_Revenge', 'Nolwa-Digital', 'OS X', \"Janindu's Bot\",\n",
              "       'Influitive', 'Tweecha Lite', 'SocialShare PRD',\n",
              "       'Woofy Social Media Scheduler', 'ISN Autotweet',\n",
              "       'App for TonysTShirts', 'Market Beam', 'PLANOLY', 'COVIDTweetBot',\n",
              "       'eupdater', 'Newswise Expert Pitch', 'Bigram Poetry',\n",
              "       'Imbibe Website Publishing', 'PixelTweeter', 'Coosto', 'Nonli',\n",
              "       'Blackbird Video Platform/Amplify', 'ALCOVID19',\n",
              "       'Hub Central APP Agencies', 'Marketing Agency', '4strat-foresight',\n",
              "       'audioBoom', 'Grapevine6', 'GaggleAMP', 'StockBot0001',\n",
              "       'SocialPost App', 'Right Relevance', 'Social5',\n",
              "       'COVID Articles on SP Journals', 'coronalivebot',\n",
              "       'Ontario_Covid19', 'Zymplify', 'Whitley2020', 'ChimpReports_',\n",
              "       'OnlyPultCom', 'Washington Square Parkerz', 'WashSquarePrkrz',\n",
              "       'VA COVID-19 Updates', 'twmode', 'www.diolch.wales',\n",
              "       'COVID-19 Alerts', 'TMZ iPhone Social Application',\n",
              "       'Elgato Stream Deck', 'Bloglovin', 'Coronavirus tracker bot',\n",
              "       \"Joe's Politics\", 'TwitPane for Android', 'EastMojo',\n",
              "       'Co-Kinetic ', 'Moa Bridge', 'UhmazingPressRelease',\n",
              "       'Ozclubbers Posts', '15 Minute Fun', 'plague-bot', 'Ryzely',\n",
              "       'LegendLakeComApp', 'STL.News', 'Tweetlogix', 'WoopSocial',\n",
              "       'Vaccines and Homeopathy News', 'Lately Social', 'SocialGest',\n",
              "       'BS-SMAP', 'PressPage Manager', 'Snaps1', 'App Political Hispanic',\n",
              "       '24liveblog', 'Choqok', 'GovernmentCyberWeb', 'PublishToTwitter',\n",
              "       'xh_scitech', 'WP to Twitter EPR', 'Ground News',\n",
              "       'Twitter Web Client', 'uwf.london', 'Posting Platform',\n",
              "       'WP to Twitter IAR', 'Total Travel TAG', '_stranger_twitterbot_',\n",
              "       'Paiger', 'CGS Tech Tweeter', ' Xinhua Sports', 'TanPaulus27',\n",
              "       'Mastodon-Twitter Crossposter', 'TS Auto Tweet', 'RH Auto Tweet',\n",
              "       'Twibble.io', 'Portal de CNMG', 'Revive Old NatCorn Posts',\n",
              "       'The Recycler', 'Kontentino', 'PostPickr', 'HealthBuzz Tweets',\n",
              "       'CIO Tech Asia Twitter', 'PolitiTweet Alerts', 'Africa News Hub',\n",
              "       'Dram Scotland', 'oneindia entertainment', 'gifincric',\n",
              "       'The Shirt List', 'Hail — Create Curate Communicate',\n",
              "       \"Hamish's Twitter Reposter\", 'Sane Auto Tweet', 'forafriendbot',\n",
              "       'Boma Marketing', 'Fox XRIO 2 News ', 'trumpDigest', 'CivilDialog',\n",
              "       'Do It Later', 'ActivewearShopping', 'peetm', 'covid19statusbot',\n",
              "       'Academia Meme Stack', 'The Unshackled',\n",
              "       'Unshackled Content Poster', 'The Tweeted Times Mobile',\n",
              "       'BT Production Site', 'Freebie-Depot', 'CareerIndia_Tweet_Counts',\n",
              "       'LOOKBOOK.nu', 'FPTraffic', 'William Travis Hardman',\n",
              "       'SPTK: PutnamDV', 'Daily Voice Suffolk County', 'Boost Old Posts',\n",
              "       'TheWhiteHouse', 'Twitter VIT App for iOS', 'CletusDroo',\n",
              "       'iHeartMedia Publishing', 'Metigy', 'WIZS 1450 AM',\n",
              "       'Clarabridge Engage', 'NewsFromDonbass', 'Plurk',\n",
              "       'feather for iOS  ', 'Partisan Issues?', 'POZ Army Auto Tweets',\n",
              "       'InfoBlaze Southeast Asia', 'Conservative Daily News',\n",
              "       'MomoRScrape', 'Sendible', 'News Users', 'twidered',\n",
              "       ' autopo.st - @Radio_Lichfield', 'apherald', 'InfoBlaze India',\n",
              "       'JustVent.LIVE', 'CyberSecDN v.7', 'SameraVinson', 'Hiplay',\n",
              "       'doctroidbot', 'Poshmark', 'rtweet_token_sc', 'Paradym Social',\n",
              "       'covid-19data', 'Covid19MT', 'Cawbird', 'Auto tweets',\n",
              "       'Blaq for BlackBerry® 10', 'CoronaWatchUSA', 'oysttyer',\n",
              "       'Radiology: AI app'], dtype=object)"
            ]
          },
          "metadata": {},
          "execution_count": 27
        }
      ]
    },
    {
      "cell_type": "code",
      "source": [
        "\n",
        "df['hashtags'].value_counts()"
      ],
      "metadata": {
        "colab": {
          "base_uri": "https://localhost:8080/"
        },
        "id": "S1oE3bluFBvy",
        "outputId": "4738163f-d463-4a01-aebb-399b0f49dda6"
      },
      "execution_count": null,
      "outputs": [
        {
          "output_type": "execute_result",
          "data": {
            "text/plain": [
              "['COVID19']                                                               37792\n",
              "['Covid19']                                                                4834\n",
              "['covid19']                                                                3124\n",
              "['coronavirus', 'CoronaVirusUpdate', 'COVID19', 'CoronavirusPandemic']      624\n",
              "['coronavirus']                                                             550\n",
              "                                                                          ...  \n",
              "['changemaker', 'masks', 'womenempowerment']                                  1\n",
              "['COVID19', 'Scotland', 'theNational']                                        1\n",
              "['afternoonagenda', 'COVID19']                                                1\n",
              "['Spain', 'COVID19', 'Denmark']                                               1\n",
              "['Salmonella', 'COVID19', 'coronavirus', 'TrumpHasNoPlan']                    1\n",
              "Name: hashtags, Length: 52640, dtype: int64"
            ]
          },
          "metadata": {},
          "execution_count": 30
        }
      ]
    },
    {
      "cell_type": "code",
      "source": [
        "\n",
        "df['source'].value_counts().nlargest(15)"
      ],
      "metadata": {
        "colab": {
          "base_uri": "https://localhost:8080/"
        },
        "id": "7d_Wk5dcFIJf",
        "outputId": "5c4b94a6-a2ac-4797-87c7-980d800a4e85"
      },
      "execution_count": null,
      "outputs": [
        {
          "output_type": "execute_result",
          "data": {
            "text/plain": [
              "Twitter Web App         56891\n",
              "Twitter for Android     40179\n",
              "Twitter for iPhone      35472\n",
              "TweetDeck                8543\n",
              "Hootsuite Inc.           7321\n",
              "Twitter for iPad         4336\n",
              "Buffer                   2728\n",
              "Sprout Social            1833\n",
              "Instagram                1759\n",
              "IFTTT                    1545\n",
              "dlvr.it                   681\n",
              "GlobalPandemic.NET        679\n",
              "LinkedIn                  628\n",
              "COVID19-Updates           625\n",
              "Twitter Media Studio      596\n",
              "Name: source, dtype: int64"
            ]
          },
          "metadata": {},
          "execution_count": 31
        }
      ]
    },
    {
      "cell_type": "code",
      "source": [
        "df['hashtags'].value_counts()"
      ],
      "metadata": {
        "colab": {
          "base_uri": "https://localhost:8080/"
        },
        "id": "D-1EPPl7tbmr",
        "outputId": "0c303c5e-99de-4f09-8a63-d29ec7187dd2"
      },
      "execution_count": null,
      "outputs": [
        {
          "output_type": "execute_result",
          "data": {
            "text/plain": [
              "['COVID19']                                                               37792\n",
              "['Covid19']                                                                4834\n",
              "['covid19']                                                                3124\n",
              "['coronavirus', 'CoronaVirusUpdate', 'COVID19', 'CoronavirusPandemic']      624\n",
              "['coronavirus']                                                             550\n",
              "                                                                          ...  \n",
              "['changemaker', 'masks', 'womenempowerment']                                  1\n",
              "['COVID19', 'Scotland', 'theNational']                                        1\n",
              "['afternoonagenda', 'COVID19']                                                1\n",
              "['Spain', 'COVID19', 'Denmark']                                               1\n",
              "['Salmonella', 'COVID19', 'coronavirus', 'TrumpHasNoPlan']                    1\n",
              "Name: hashtags, Length: 52640, dtype: int64"
            ]
          },
          "metadata": {},
          "execution_count": 32
        }
      ]
    },
    {
      "cell_type": "code",
      "source": [
        "plt.figure(figsize=(10,5))\n",
        "df['source'].value_counts().nlargest(5).plot(kind='bar')\n",
        "plt.xticks(rotation=90)\n",
        "plt.show()"
      ],
      "metadata": {
        "colab": {
          "base_uri": "https://localhost:8080/",
          "height": 402
        },
        "id": "dzjHdzwyFeOj",
        "outputId": "f6d4382a-a833-46d3-af96-141d83f06c64"
      },
      "execution_count": null,
      "outputs": [
        {
          "output_type": "display_data",
          "data": {
            "text/plain": [
              "<Figure size 720x360 with 1 Axes>"
            ],
            "image/png": "[encoded data removed]"
          },
          "metadata": {
            "needs_background": "light"
          }
        }
      ]
    },
    {
      "cell_type": "code",
      "source": [
        "plt.figure(figsize=(10,5))\n",
        "df['hashtags'].value_counts().nlargest(25).plot(kind='bar')\n",
        "plt.xticks(rotation=90)\n",
        "plt.show()"
      ],
      "metadata": {
        "colab": {
          "base_uri": "https://localhost:8080/",
          "height": 667
        },
        "id": "fr4FTgpeoLrc",
        "outputId": "bfb8d8dc-6af8-42f2-bbdc-597bd9d841e8"
      },
      "execution_count": null,
      "outputs": [
        {
          "output_type": "display_data",
          "data": {
            "text/plain": [
              "<Figure size 720x360 with 1 Axes>"
            ],
            "image/png": "[encoded data removed]"
          },
          "metadata": {
            "needs_background": "light"
          }
        }
      ]
    },
    {
      "cell_type": "code",
      "source": [
        "plt.figure(figsize=(10,5))\n",
        "df['user_location'].value_counts().nlargest(5).plot(kind='bar',color='purple')\n",
        "\n",
        "\n",
        "plt.xticks(rotation=90)\n",
        "plt.show()"
      ],
      "metadata": {
        "colab": {
          "base_uri": "https://localhost:8080/",
          "height": 391
        },
        "id": "uirRxGwCn8FD",
        "outputId": "493a9e98-d7e1-44d0-f2fb-fb45ecdf5341"
      },
      "execution_count": null,
      "outputs": [
        {
          "output_type": "display_data",
          "data": {
            "text/plain": [
              "<Figure size 720x360 with 1 Axes>"
            ],
            "image/png": "[encoded data removed]"
          },
          "metadata": {
            "needs_background": "light"
          }
        }
      ]
    },
    {
      "cell_type": "code",
      "source": [
        "pip install neattext"
      ],
      "metadata": {
        "colab": {
          "base_uri": "https://localhost:8080/"
        },
        "id": "PTo-RMhhGERR",
        "outputId": "c85df3fa-6186-41d3-82ba-00f3c08d7db3"
      },
      "execution_count": null,
      "outputs": [
        {
          "output_type": "stream",
          "name": "stdout",
          "text": [
            "Collecting neattext\n",
            "  Downloading neattext-0.1.3-py3-none-any.whl (114 kB)\n",
            "\u001b[?25l\r\u001b[K     |██▉                             | 10 kB 23.1 MB/s eta 0:00:01\r\u001b[K     |█████▊                          | 20 kB 25.8 MB/s eta 0:00:01\r\u001b[K     |████████▋                       | 30 kB 31.0 MB/s eta 0:00:01\r\u001b[K     |███████████▍                    | 40 kB 35.7 MB/s eta 0:00:01\r\u001b[K     |██████████████▎                 | 51 kB 37.5 MB/s eta 0:00:01\r\u001b[K     |█████████████████▏              | 61 kB 41.0 MB/s eta 0:00:01\r\u001b[K     |████████████████████            | 71 kB 33.4 MB/s eta 0:00:01\r\u001b[K     |██████████████████████▉         | 81 kB 26.3 MB/s eta 0:00:01\r\u001b[K     |█████████████████████████▊      | 92 kB 28.2 MB/s eta 0:00:01\r\u001b[K     |████████████████████████████▋   | 102 kB 29.9 MB/s eta 0:00:01\r\u001b[K     |███████████████████████████████▍| 112 kB 29.9 MB/s eta 0:00:01\r\u001b[K     |████████████████████████████████| 114 kB 29.9 MB/s \n",
            "\u001b[?25hInstalling collected packages: neattext\n",
            "Successfully installed neattext-0.1.3\n"
          ]
        }
      ]
    },
    {
      "cell_type": "code",
      "source": [
        "import neattext.functions as nfx"
      ],
      "metadata": {
        "id": "9-PdnOiFIUzN"
      },
      "execution_count": null,
      "outputs": []
    },
    {
      "cell_type": "code",
      "source": [
        "dir(nfx)"
      ],
      "metadata": {
        "id": "wVW81iAmIbei",
        "colab": {
          "base_uri": "https://localhost:8080/"
        },
        "outputId": "79b76790-e0e5-4c7f-b79d-219622aa3f93"
      },
      "execution_count": null,
      "outputs": [
        {
          "output_type": "execute_result",
          "data": {
            "text/plain": [
              "['BTC_ADDRESS_REGEX',\n",
              " 'CURRENCY_REGEX',\n",
              " 'CURRENCY_SYMB_REGEX',\n",
              " 'Counter',\n",
              " 'DATE_REGEX',\n",
              " 'EMAIL_REGEX',\n",
              " 'EMOJI_REGEX',\n",
              " 'HASTAG_REGEX',\n",
              " 'MASTERCard_REGEX',\n",
              " 'MD5_SHA_REGEX',\n",
              " 'MOST_COMMON_PUNCT_REGEX',\n",
              " 'NUMBERS_REGEX',\n",
              " 'PHONE_REGEX',\n",
              " 'PoBOX_REGEX',\n",
              " 'SPECIAL_CHARACTERS_REGEX',\n",
              " 'STOPWORDS',\n",
              " 'STOPWORDS_de',\n",
              " 'STOPWORDS_en',\n",
              " 'STOPWORDS_es',\n",
              " 'STOPWORDS_fr',\n",
              " 'STOPWORDS_ru',\n",
              " 'STOPWORDS_yo',\n",
              " 'STREET_ADDRESS_REGEX',\n",
              " 'TextFrame',\n",
              " 'URL_PATTERN',\n",
              " 'USER_HANDLES_REGEX',\n",
              " 'VISACard_REGEX',\n",
              " '__builtins__',\n",
              " '__cached__',\n",
              " '__doc__',\n",
              " '__file__',\n",
              " '__generate_text',\n",
              " '__loader__',\n",
              " '__name__',\n",
              " '__numbers_dict',\n",
              " '__package__',\n",
              " '__spec__',\n",
              " '_lex_richness_herdan',\n",
              " '_lex_richness_maas_ttr',\n",
              " 'clean_text',\n",
              " 'defaultdict',\n",
              " 'digit2words',\n",
              " 'extract_btc_address',\n",
              " 'extract_currencies',\n",
              " 'extract_currency_symbols',\n",
              " 'extract_dates',\n",
              " 'extract_emails',\n",
              " 'extract_emojis',\n",
              " 'extract_hashtags',\n",
              " 'extract_html_tags',\n",
              " 'extract_mastercard_addr',\n",
              " 'extract_md5sha',\n",
              " 'extract_numbers',\n",
              " 'extract_pattern',\n",
              " 'extract_phone_numbers',\n",
              " 'extract_postoffice_box',\n",
              " 'extract_shortwords',\n",
              " 'extract_special_characters',\n",
              " 'extract_stopwords',\n",
              " 'extract_street_address',\n",
              " 'extract_terms_in_bracket',\n",
              " 'extract_urls',\n",
              " 'extract_userhandles',\n",
              " 'extract_visacard_addr',\n",
              " 'fix_contractions',\n",
              " 'generate_sentence',\n",
              " 'hamming_distance',\n",
              " 'inverse_df',\n",
              " 'lexical_richness',\n",
              " 'markov_chain',\n",
              " 'math',\n",
              " 'nlargest',\n",
              " 'normalize',\n",
              " 'num2words',\n",
              " 'random',\n",
              " 're',\n",
              " 'read_txt',\n",
              " 'remove_accents',\n",
              " 'remove_bad_quotes',\n",
              " 'remove_btc_address',\n",
              " 'remove_currencies',\n",
              " 'remove_currency_symbols',\n",
              " 'remove_custom_pattern',\n",
              " 'remove_custom_words',\n",
              " 'remove_dates',\n",
              " 'remove_emails',\n",
              " 'remove_emojis',\n",
              " 'remove_hashtags',\n",
              " 'remove_html_tags',\n",
              " 'remove_mastercard_addr',\n",
              " 'remove_md5sha',\n",
              " 'remove_multiple_spaces',\n",
              " 'remove_non_ascii',\n",
              " 'remove_numbers',\n",
              " 'remove_phone_numbers',\n",
              " 'remove_postoffice_box',\n",
              " 'remove_puncts',\n",
              " 'remove_punctuations',\n",
              " 'remove_shortwords',\n",
              " 'remove_special_characters',\n",
              " 'remove_stopwords',\n",
              " 'remove_street_address',\n",
              " 'remove_terms_in_bracket',\n",
              " 'remove_urls',\n",
              " 'remove_userhandles',\n",
              " 'remove_visacard_addr',\n",
              " 'replace_bad_quotes',\n",
              " 'replace_currencies',\n",
              " 'replace_currency_symbols',\n",
              " 'replace_dates',\n",
              " 'replace_emails',\n",
              " 'replace_emojis',\n",
              " 'replace_numbers',\n",
              " 'replace_phone_numbers',\n",
              " 'replace_special_characters',\n",
              " 'replace_term',\n",
              " 'replace_urls',\n",
              " 'string',\n",
              " 'term_freq',\n",
              " 'to_txt',\n",
              " 'unicodedata',\n",
              " 'word_freq',\n",
              " 'word_length_freq']"
            ]
          },
          "metadata": {},
          "execution_count": 38
        }
      ]
    },
    {
      "cell_type": "code",
      "source": [
        "df['text']"
      ],
      "metadata": {
        "colab": {
          "base_uri": "https://localhost:8080/"
        },
        "id": "gRcpqFOLId_Q",
        "outputId": "b3f0d2b1-481a-471f-8300-08b3086852bb"
      },
      "execution_count": null,
      "outputs": [
        {
          "output_type": "execute_result",
          "data": {
            "text/plain": [
              "0         If I smelled the scent of hand sanitizers toda...\n",
              "1         Hey @Yankees @YankeesPR and @MLB - wouldn't it...\n",
              "2         @diane3443 @wdunlap @realDonaldTrump Trump nev...\n",
              "3         @brookbanktv The one gift #COVID19 has give me...\n",
              "4         25 July : Media Bulletin on Novel #CoronaVirus...\n",
              "                                ...                        \n",
              "179103    Thanks @IamOhmai for nominating me for the @WH...\n",
              "179104    2020! The year of insanity! Lol! #COVID19 http...\n",
              "179105    @CTVNews A powerful painting by Juan Lucena. I...\n",
              "179106    More than 1,200 students test positive for #CO...\n",
              "179107    I stop when I see a Stop\\n\\n@SABCNews\\n@Izinda...\n",
              "Name: text, Length: 179108, dtype: object"
            ]
          },
          "metadata": {},
          "execution_count": 39
        }
      ]
    },
    {
      "cell_type": "code",
      "source": [
        "df.head()"
      ],
      "metadata": {
        "colab": {
          "base_uri": "https://localhost:8080/",
          "height": 496
        },
        "id": "sx6EmUgSKI0-",
        "outputId": "4d7f5341-9c9c-4efb-d642-7366382fede3"
      },
      "execution_count": null,
      "outputs": [
        {
          "output_type": "execute_result",
          "data": {
            "text/plain": [
              "         user_name         user_location  \\\n",
              "0           ᏉᎥ☻լꂅϮ            astroworld   \n",
              "1    Tom Basile 🇺🇸          New York, NY   \n",
              "2  Time4fisticuffs      Pewee Valley, KY   \n",
              "3      ethel mertz  Stuck in the Middle    \n",
              "4         DIPR-J&K     Jammu and Kashmir   \n",
              "\n",
              "                                    user_description         user_created  \\\n",
              "0  wednesday addams as a disney princess keepin i...  2017-05-26 05:46:42   \n",
              "1  Husband, Father, Columnist & Commentator. Auth...  2009-04-16 20:06:23   \n",
              "2  #Christian #Catholic #Conservative #Reagan #Re...  2009-02-28 18:57:41   \n",
              "3  #Browns #Indians #ClevelandProud #[]_[] #Cavs ...  2019-03-07 01:45:06   \n",
              "4  🖊️Official Twitter handle of Department of Inf...  2017-02-12 06:45:15   \n",
              "\n",
              "   user_followers  user_friends  user_favourites  user_verified  \\\n",
              "0             624           950            18775          False   \n",
              "1            2253          1677               24           True   \n",
              "2            9275          9525             7254          False   \n",
              "3             197           987             1488          False   \n",
              "4          101009           168              101          False   \n",
              "\n",
              "                  date                                               text  \\\n",
              "0  2020-07-25 12:27:21  If I smelled the scent of hand sanitizers toda...   \n",
              "1  2020-07-25 12:27:17  Hey @Yankees @YankeesPR and @MLB - wouldn't it...   \n",
              "2  2020-07-25 12:27:14  @diane3443 @wdunlap @realDonaldTrump Trump nev...   \n",
              "3  2020-07-25 12:27:10  @brookbanktv The one gift #COVID19 has give me...   \n",
              "4  2020-07-25 12:27:08  25 July : Media Bulletin on Novel #CoronaVirus...   \n",
              "\n",
              "                            hashtags               source  is_retweet  \n",
              "0                                NaN   Twitter for iPhone       False  \n",
              "1                                NaN  Twitter for Android       False  \n",
              "2                        ['COVID19']  Twitter for Android       False  \n",
              "3                        ['COVID19']   Twitter for iPhone       False  \n",
              "4  ['CoronaVirusUpdates', 'COVID19']  Twitter for Android       False  "
            ],
            "text/html": [
              "\n",
              "  <div id=\"df-017db071-dbd1-4139-a442-92826ecd4899\">\n",
              "    <div class=\"colab-df-container\">\n",
              "      <div>\n",
              "<style scoped>\n",
              "    .dataframe tbody tr th:only-of-type {\n",
              "        vertical-align: middle;\n",
              "    }\n",
              "\n",
              "    .dataframe tbody tr th {\n",
              "        vertical-align: top;\n",
              "    }\n",
              "\n",
              "    .dataframe thead th {\n",
              "        text-align: right;\n",
              "    }\n",
              "</style>\n",
              "<table border=\"1\" class=\"dataframe\">\n",
              "  <thead>\n",
              "    <tr style=\"text-align: right;\">\n",
              "      <th></th>\n",
              "      <th>user_name</th>\n",
              "      <th>user_location</th>\n",
              "      <th>user_description</th>\n",
              "      <th>user_created</th>\n",
              "      <th>user_followers</th>\n",
              "      <th>user_friends</th>\n",
              "      <th>user_favourites</th>\n",
              "      <th>user_verified</th>\n",
              "      <th>date</th>\n",
              "      <th>text</th>\n",
              "      <th>hashtags</th>\n",
              "      <th>source</th>\n",
              "      <th>is_retweet</th>\n",
              "    </tr>\n",
              "  </thead>\n",
              "  <tbody>\n",
              "    <tr>\n",
              "      <th>0</th>\n",
              "      <td>ᏉᎥ☻լꂅϮ</td>\n",
              "      <td>astroworld</td>\n",
              "      <td>wednesday addams as a disney princess keepin i...</td>\n",
              "      <td>2017-05-26 05:46:42</td>\n",
              "      <td>624</td>\n",
              "      <td>950</td>\n",
              "      <td>18775</td>\n",
              "      <td>False</td>\n",
              "      <td>2020-07-25 12:27:21</td>\n",
              "      <td>If I smelled the scent of hand sanitizers toda...</td>\n",
              "      <td>NaN</td>\n",
              "      <td>Twitter for iPhone</td>\n",
              "      <td>False</td>\n",
              "    </tr>\n",
              "    <tr>\n",
              "      <th>1</th>\n",
              "      <td>Tom Basile 🇺🇸</td>\n",
              "      <td>New York, NY</td>\n",
              "      <td>Husband, Father, Columnist &amp; Commentator. Auth...</td>\n",
              "      <td>2009-04-16 20:06:23</td>\n",
              "      <td>2253</td>\n",
              "      <td>1677</td>\n",
              "      <td>24</td>\n",
              "      <td>True</td>\n",
              "      <td>2020-07-25 12:27:17</td>\n",
              "      <td>Hey @Yankees @YankeesPR and @MLB - wouldn't it...</td>\n",
              "      <td>NaN</td>\n",
              "      <td>Twitter for Android</td>\n",
              "      <td>False</td>\n",
              "    </tr>\n",
              "    <tr>\n",
              "      <th>2</th>\n",
              "      <td>Time4fisticuffs</td>\n",
              "      <td>Pewee Valley, KY</td>\n",
              "      <td>#Christian #Catholic #Conservative #Reagan #Re...</td>\n",
              "      <td>2009-02-28 18:57:41</td>\n",
              "      <td>9275</td>\n",
              "      <td>9525</td>\n",
              "      <td>7254</td>\n",
              "      <td>False</td>\n",
              "      <td>2020-07-25 12:27:14</td>\n",
              "      <td>@diane3443 @wdunlap @realDonaldTrump Trump nev...</td>\n",
              "      <td>['COVID19']</td>\n",
              "      <td>Twitter for Android</td>\n",
              "      <td>False</td>\n",
              "    </tr>\n",
              "    <tr>\n",
              "      <th>3</th>\n",
              "      <td>ethel mertz</td>\n",
              "      <td>Stuck in the Middle</td>\n",
              "      <td>#Browns #Indians #ClevelandProud #[]_[] #Cavs ...</td>\n",
              "      <td>2019-03-07 01:45:06</td>\n",
              "      <td>197</td>\n",
              "      <td>987</td>\n",
              "      <td>1488</td>\n",
              "      <td>False</td>\n",
              "      <td>2020-07-25 12:27:10</td>\n",
              "      <td>@brookbanktv The one gift #COVID19 has give me...</td>\n",
              "      <td>['COVID19']</td>\n",
              "      <td>Twitter for iPhone</td>\n",
              "      <td>False</td>\n",
              "    </tr>\n",
              "    <tr>\n",
              "      <th>4</th>\n",
              "      <td>DIPR-J&amp;K</td>\n",
              "      <td>Jammu and Kashmir</td>\n",
              "      <td>🖊️Official Twitter handle of Department of Inf...</td>\n",
              "      <td>2017-02-12 06:45:15</td>\n",
              "      <td>101009</td>\n",
              "      <td>168</td>\n",
              "      <td>101</td>\n",
              "      <td>False</td>\n",
              "      <td>2020-07-25 12:27:08</td>\n",
              "      <td>25 July : Media Bulletin on Novel #CoronaVirus...</td>\n",
              "      <td>['CoronaVirusUpdates', 'COVID19']</td>\n",
              "      <td>Twitter for Android</td>\n",
              "      <td>False</td>\n",
              "    </tr>\n",
              "  </tbody>\n",
              "</table>\n",
              "</div>\n",
              "      <button class=\"colab-df-convert\" onclick=\"convertToInteractive('df-017db071-dbd1-4139-a442-92826ecd4899')\"\n",
              "              title=\"Convert this dataframe to an interactive table.\"\n",
              "              style=\"display:none;\">\n",
              "        \n",
              "  <svg xmlns=\"http://www.w3.org/2000/svg\" height=\"24px\"viewBox=\"0 0 24 24\"\n",
              "       width=\"24px\">\n",
              "    <path d=\"M0 0h24v24H0V0z\" fill=\"none\"/>\n",
              "    <path d=\"M18.56 5.44l.94 2.06.94-2.06 2.06-.94-2.06-.94-.94-2.06-.94 2.06-2.06.94zm-11 1L8.5 8.5l.94-2.06 2.06-.94-2.06-.94L8.5 2.5l-.94 2.06-2.06.94zm10 10l.94 2.06.94-2.06 2.06-.94-2.06-.94-.94-2.06-.94 2.06-2.06.94z\"/><path d=\"M17.41 7.96l-1.37-1.37c-.4-.4-.92-.59-1.43-.59-.52 0-1.04.2-1.43.59L10.3 9.45l-7.72 7.72c-.78.78-.78 2.05 0 2.83L4 21.41c.39.39.9.59 1.41.59.51 0 1.02-.2 1.41-.59l7.78-7.78 2.81-2.81c.8-.78.8-2.07 0-2.86zM5.41 20L4 18.59l7.72-7.72 1.47 1.35L5.41 20z\"/>\n",
              "  </svg>\n",
              "      </button>\n",
              "      \n",
              "  <style>\n",
              "    .colab-df-container {\n",
              "      display:flex;\n",
              "      flex-wrap:wrap;\n",
              "      gap: 12px;\n",
              "    }\n",
              "\n",
              "    .colab-df-convert {\n",
              "      background-color: #E8F0FE;\n",
              "      border: none;\n",
              "      border-radius: 50%;\n",
              "      cursor: pointer;\n",
              "      display: none;\n",
              "      fill: #1967D2;\n",
              "      height: 32px;\n",
              "      padding: 0 0 0 0;\n",
              "      width: 32px;\n",
              "    }\n",
              "\n",
              "    .colab-df-convert:hover {\n",
              "      background-color: #E2EBFA;\n",
              "      box-shadow: 0px 1px 2px rgba(60, 64, 67, 0.3), 0px 1px 3px 1px rgba(60, 64, 67, 0.15);\n",
              "      fill: #174EA6;\n",
              "    }\n",
              "\n",
              "    [theme=dark] .colab-df-convert {\n",
              "      background-color: #3B4455;\n",
              "      fill: #D2E3FC;\n",
              "    }\n",
              "\n",
              "    [theme=dark] .colab-df-convert:hover {\n",
              "      background-color: #434B5C;\n",
              "      box-shadow: 0px 1px 3px 1px rgba(0, 0, 0, 0.15);\n",
              "      filter: drop-shadow(0px 1px 2px rgba(0, 0, 0, 0.3));\n",
              "      fill: #FFFFFF;\n",
              "    }\n",
              "  </style>\n",
              "\n",
              "      <script>\n",
              "        const buttonEl =\n",
              "          document.querySelector('#df-017db071-dbd1-4139-a442-92826ecd4899 button.colab-df-convert');\n",
              "        buttonEl.style.display =\n",
              "          google.colab.kernel.accessAllowed ? 'block' : 'none';\n",
              "\n",
              "        async function convertToInteractive(key) {\n",
              "          const element = document.querySelector('#df-017db071-dbd1-4139-a442-92826ecd4899');\n",
              "          const dataTable =\n",
              "            await google.colab.kernel.invokeFunction('convertToInteractive',\n",
              "                                                     [key], {});\n",
              "          if (!dataTable) return;\n",
              "\n",
              "          const docLinkHtml = 'Like what you see? Visit the ' +\n",
              "            '<a target=\"_blank\" href=https://colab.research.google.com/notebooks/data_table.ipynb>data table notebook</a>'\n",
              "            + ' to learn more about interactive tables.';\n",
              "          element.innerHTML = '';\n",
              "          dataTable['output_type'] = 'display_data';\n",
              "          await google.colab.output.renderOutput(dataTable, element);\n",
              "          const docLink = document.createElement('div');\n",
              "          docLink.innerHTML = docLinkHtml;\n",
              "          element.appendChild(docLink);\n",
              "        }\n",
              "      </script>\n",
              "    </div>\n",
              "  </div>\n",
              "  "
            ]
          },
          "metadata": {},
          "execution_count": 40
        }
      ]
    },
    {
      "cell_type": "code",
      "source": [
        "df['text'].iloc[2]"
      ],
      "metadata": {
        "colab": {
          "base_uri": "https://localhost:8080/",
          "height": 53
        },
        "id": "tW6LcHkUK3Ij",
        "outputId": "ac80532e-c506-44fb-dc3e-9e9a643c83d9"
      },
      "execution_count": null,
      "outputs": [
        {
          "output_type": "execute_result",
          "data": {
            "text/plain": [
              "'@diane3443 @wdunlap @realDonaldTrump Trump never once claimed #COVID19 was a hoax. We all claim that this effort to… https://t.co/Jkk8vHWHb3'"
            ],
            "application/vnd.google.colaboratory.intrinsic+json": {
              "type": "string"
            }
          },
          "metadata": {},
          "execution_count": 41
        }
      ]
    },
    {
      "cell_type": "code",
      "source": [
        "df['clean_tweet'] = df['text'].apply(nfx.remove_hashtags)"
      ],
      "metadata": {
        "id": "mFbOWQeo85BA"
      },
      "execution_count": null,
      "outputs": []
    },
    {
      "cell_type": "code",
      "source": [
        "df['clean_tweet'] = df['clean_tweet'].apply(lambda x: nfx.remove_userhandles(x))"
      ],
      "metadata": {
        "id": "uAkPl11F90hY"
      },
      "execution_count": null,
      "outputs": []
    },
    {
      "cell_type": "code",
      "source": [
        "df[['text','clean_tweet']]"
      ],
      "metadata": {
        "colab": {
          "base_uri": "https://localhost:8080/",
          "height": 423
        },
        "id": "NHIZrrZw9Gj5",
        "outputId": "610d97ec-6f3f-40c7-f9e4-47a6955ed6b1"
      },
      "execution_count": null,
      "outputs": [
        {
          "output_type": "execute_result",
          "data": {
            "text/plain": [
              "                                                     text  \\\n",
              "0       If I smelled the scent of hand sanitizers toda...   \n",
              "1       Hey @Yankees @YankeesPR and @MLB - wouldn't it...   \n",
              "2       @diane3443 @wdunlap @realDonaldTrump Trump nev...   \n",
              "3       @brookbanktv The one gift #COVID19 has give me...   \n",
              "4       25 July : Media Bulletin on Novel #CoronaVirus...   \n",
              "...                                                   ...   \n",
              "179103  Thanks @IamOhmai for nominating me for the @WH...   \n",
              "179104  2020! The year of insanity! Lol! #COVID19 http...   \n",
              "179105  @CTVNews A powerful painting by Juan Lucena. I...   \n",
              "179106  More than 1,200 students test positive for #CO...   \n",
              "179107  I stop when I see a Stop\\n\\n@SABCNews\\n@Izinda...   \n",
              "\n",
              "                                              clean_tweet  \n",
              "0       If I smelled the scent of hand sanitizers toda...  \n",
              "1       Hey     and   - wouldn't it have made more sen...  \n",
              "2             Trump never once claimed   was a hoax. W...  \n",
              "3         The one gift   has give me is an appreciatio...  \n",
              "4       25 July : Media Bulletin on Novel     \\n      ...  \n",
              "...                                                   ...  \n",
              "179103  Thanks   for nominating me for the     challen...  \n",
              "179104  2020! The year of insanity! Lol!   https://t.c...  \n",
              "179105    A powerful painting by Juan Lucena. It's a t...  \n",
              "179106  More than 1,200 students test positive for   a...  \n",
              "179107  I stop when I see a Stop\\n\\n \\n \\n \\n \\n \\n \\n...  \n",
              "\n",
              "[179108 rows x 2 columns]"
            ],
            "text/html": [
              "\n",
              "  <div id=\"df-a6332627-a047-4005-a1f4-5f638ea6961e\">\n",
              "    <div class=\"colab-df-container\">\n",
              "      <div>\n",
              "<style scoped>\n",
              "    .dataframe tbody tr th:only-of-type {\n",
              "        vertical-align: middle;\n",
              "    }\n",
              "\n",
              "    .dataframe tbody tr th {\n",
              "        vertical-align: top;\n",
              "    }\n",
              "\n",
              "    .dataframe thead th {\n",
              "        text-align: right;\n",
              "    }\n",
              "</style>\n",
              "<table border=\"1\" class=\"dataframe\">\n",
              "  <thead>\n",
              "    <tr style=\"text-align: right;\">\n",
              "      <th></th>\n",
              "      <th>text</th>\n",
              "      <th>clean_tweet</th>\n",
              "    </tr>\n",
              "  </thead>\n",
              "  <tbody>\n",
              "    <tr>\n",
              "      <th>0</th>\n",
              "      <td>If I smelled the scent of hand sanitizers toda...</td>\n",
              "      <td>If I smelled the scent of hand sanitizers toda...</td>\n",
              "    </tr>\n",
              "    <tr>\n",
              "      <th>1</th>\n",
              "      <td>Hey @Yankees @YankeesPR and @MLB - wouldn't it...</td>\n",
              "      <td>Hey     and   - wouldn't it have made more sen...</td>\n",
              "    </tr>\n",
              "    <tr>\n",
              "      <th>2</th>\n",
              "      <td>@diane3443 @wdunlap @realDonaldTrump Trump nev...</td>\n",
              "      <td>Trump never once claimed   was a hoax. W...</td>\n",
              "    </tr>\n",
              "    <tr>\n",
              "      <th>3</th>\n",
              "      <td>@brookbanktv The one gift #COVID19 has give me...</td>\n",
              "      <td>The one gift   has give me is an appreciatio...</td>\n",
              "    </tr>\n",
              "    <tr>\n",
              "      <th>4</th>\n",
              "      <td>25 July : Media Bulletin on Novel #CoronaVirus...</td>\n",
              "      <td>25 July : Media Bulletin on Novel     \\n      ...</td>\n",
              "    </tr>\n",
              "    <tr>\n",
              "      <th>...</th>\n",
              "      <td>...</td>\n",
              "      <td>...</td>\n",
              "    </tr>\n",
              "    <tr>\n",
              "      <th>179103</th>\n",
              "      <td>Thanks @IamOhmai for nominating me for the @WH...</td>\n",
              "      <td>Thanks   for nominating me for the     challen...</td>\n",
              "    </tr>\n",
              "    <tr>\n",
              "      <th>179104</th>\n",
              "      <td>2020! The year of insanity! Lol! #COVID19 http...</td>\n",
              "      <td>2020! The year of insanity! Lol!   https://t.c...</td>\n",
              "    </tr>\n",
              "    <tr>\n",
              "      <th>179105</th>\n",
              "      <td>@CTVNews A powerful painting by Juan Lucena. I...</td>\n",
              "      <td>A powerful painting by Juan Lucena. It's a t...</td>\n",
              "    </tr>\n",
              "    <tr>\n",
              "      <th>179106</th>\n",
              "      <td>More than 1,200 students test positive for #CO...</td>\n",
              "      <td>More than 1,200 students test positive for   a...</td>\n",
              "    </tr>\n",
              "    <tr>\n",
              "      <th>179107</th>\n",
              "      <td>I stop when I see a Stop\\n\\n@SABCNews\\n@Izinda...</td>\n",
              "      <td>I stop when I see a Stop\\n\\n \\n \\n \\n \\n \\n \\n...</td>\n",
              "    </tr>\n",
              "  </tbody>\n",
              "</table>\n",
              "<p>179108 rows × 2 columns</p>\n",
              "</div>\n",
              "      <button class=\"colab-df-convert\" onclick=\"convertToInteractive('df-a6332627-a047-4005-a1f4-5f638ea6961e')\"\n",
              "              title=\"Convert this dataframe to an interactive table.\"\n",
              "              style=\"display:none;\">\n",
              "        \n",
              "  <svg xmlns=\"http://www.w3.org/2000/svg\" height=\"24px\"viewBox=\"0 0 24 24\"\n",
              "       width=\"24px\">\n",
              "    <path d=\"M0 0h24v24H0V0z\" fill=\"none\"/>\n",
              "    <path d=\"M18.56 5.44l.94 2.06.94-2.06 2.06-.94-2.06-.94-.94-2.06-.94 2.06-2.06.94zm-11 1L8.5 8.5l.94-2.06 2.06-.94-2.06-.94L8.5 2.5l-.94 2.06-2.06.94zm10 10l.94 2.06.94-2.06 2.06-.94-2.06-.94-.94-2.06-.94 2.06-2.06.94z\"/><path d=\"M17.41 7.96l-1.37-1.37c-.4-.4-.92-.59-1.43-.59-.52 0-1.04.2-1.43.59L10.3 9.45l-7.72 7.72c-.78.78-.78 2.05 0 2.83L4 21.41c.39.39.9.59 1.41.59.51 0 1.02-.2 1.41-.59l7.78-7.78 2.81-2.81c.8-.78.8-2.07 0-2.86zM5.41 20L4 18.59l7.72-7.72 1.47 1.35L5.41 20z\"/>\n",
              "  </svg>\n",
              "      </button>\n",
              "      \n",
              "  <style>\n",
              "    .colab-df-container {\n",
              "      display:flex;\n",
              "      flex-wrap:wrap;\n",
              "      gap: 12px;\n",
              "    }\n",
              "\n",
              "    .colab-df-convert {\n",
              "      background-color: #E8F0FE;\n",
              "      border: none;\n",
              "      border-radius: 50%;\n",
              "      cursor: pointer;\n",
              "      display: none;\n",
              "      fill: #1967D2;\n",
              "      height: 32px;\n",
              "      padding: 0 0 0 0;\n",
              "      width: 32px;\n",
              "    }\n",
              "\n",
              "    .colab-df-convert:hover {\n",
              "      background-color: #E2EBFA;\n",
              "      box-shadow: 0px 1px 2px rgba(60, 64, 67, 0.3), 0px 1px 3px 1px rgba(60, 64, 67, 0.15);\n",
              "      fill: #174EA6;\n",
              "    }\n",
              "\n",
              "    [theme=dark] .colab-df-convert {\n",
              "      background-color: #3B4455;\n",
              "      fill: #D2E3FC;\n",
              "    }\n",
              "\n",
              "    [theme=dark] .colab-df-convert:hover {\n",
              "      background-color: #434B5C;\n",
              "      box-shadow: 0px 1px 3px 1px rgba(0, 0, 0, 0.15);\n",
              "      filter: drop-shadow(0px 1px 2px rgba(0, 0, 0, 0.3));\n",
              "      fill: #FFFFFF;\n",
              "    }\n",
              "  </style>\n",
              "\n",
              "      <script>\n",
              "        const buttonEl =\n",
              "          document.querySelector('#df-a6332627-a047-4005-a1f4-5f638ea6961e button.colab-df-convert');\n",
              "        buttonEl.style.display =\n",
              "          google.colab.kernel.accessAllowed ? 'block' : 'none';\n",
              "\n",
              "        async function convertToInteractive(key) {\n",
              "          const element = document.querySelector('#df-a6332627-a047-4005-a1f4-5f638ea6961e');\n",
              "          const dataTable =\n",
              "            await google.colab.kernel.invokeFunction('convertToInteractive',\n",
              "                                                     [key], {});\n",
              "          if (!dataTable) return;\n",
              "\n",
              "          const docLinkHtml = 'Like what you see? Visit the ' +\n",
              "            '<a target=\"_blank\" href=https://colab.research.google.com/notebooks/data_table.ipynb>data table notebook</a>'\n",
              "            + ' to learn more about interactive tables.';\n",
              "          element.innerHTML = '';\n",
              "          dataTable['output_type'] = 'display_data';\n",
              "          await google.colab.output.renderOutput(dataTable, element);\n",
              "          const docLink = document.createElement('div');\n",
              "          docLink.innerHTML = docLinkHtml;\n",
              "          element.appendChild(docLink);\n",
              "        }\n",
              "      </script>\n",
              "    </div>\n",
              "  </div>\n",
              "  "
            ]
          },
          "metadata": {},
          "execution_count": 44
        }
      ]
    },
    {
      "cell_type": "code",
      "source": [
        "df['clean_tweet'].iloc[5]  #white space remove"
      ],
      "metadata": {
        "colab": {
          "base_uri": "https://localhost:8080/",
          "height": 53
        },
        "id": "IbZVVhTv9Y3R",
        "outputId": "b9b2589c-109a-4aad-b3ec-71cf521a2121"
      },
      "execution_count": null,
      "outputs": [
        {
          "output_type": "execute_result",
          "data": {
            "text/plain": [
              "\"    deaths continue to rise. It's almost  as bad as it ever was.  Politicians and businesses want… https://t.co/hXMHooXX2C\""
            ],
            "application/vnd.google.colaboratory.intrinsic+json": {
              "type": "string"
            }
          },
          "metadata": {},
          "execution_count": 45
        }
      ]
    },
    {
      "cell_type": "code",
      "source": [
        "df['clean_tweet']= df['clean_tweet'].apply(nfx.remove_multiple_spaces)"
      ],
      "metadata": {
        "id": "fuD5CRH9-Rs2"
      },
      "execution_count": null,
      "outputs": []
    },
    {
      "cell_type": "code",
      "source": [
        "df['clean_tweet'].iloc[5]"
      ],
      "metadata": {
        "colab": {
          "base_uri": "https://localhost:8080/",
          "height": 53
        },
        "id": "kVAaJHEx-tGk",
        "outputId": "7283126a-5036-4a27-c7e3-e70066e2bd4a"
      },
      "execution_count": null,
      "outputs": [
        {
          "output_type": "execute_result",
          "data": {
            "text/plain": [
              "\" deaths continue to rise. It's almost as bad as it ever was. Politicians and businesses want… https://t.co/hXMHooXX2C\""
            ],
            "application/vnd.google.colaboratory.intrinsic+json": {
              "type": "string"
            }
          },
          "metadata": {},
          "execution_count": 47
        }
      ]
    },
    {
      "cell_type": "code",
      "source": [
        "df['clean_tweet']= df['clean_tweet'].apply(nfx.remove_urls)"
      ],
      "metadata": {
        "id": "VHEbbh4Z-yx9"
      },
      "execution_count": null,
      "outputs": []
    },
    {
      "cell_type": "code",
      "source": [
        "df['clean_tweet']= df['clean_tweet'].apply(nfx.remove_puncts)"
      ],
      "metadata": {
        "id": "268G-pAd_FIJ"
      },
      "execution_count": null,
      "outputs": []
    },
    {
      "cell_type": "code",
      "source": [
        "df[['text','clean_tweet']]"
      ],
      "metadata": {
        "colab": {
          "base_uri": "https://localhost:8080/",
          "height": 423
        },
        "id": "THIgTzlG_Lln",
        "outputId": "784dc67b-3503-4858-e6f3-ef0976168f9c"
      },
      "execution_count": null,
      "outputs": [
        {
          "output_type": "execute_result",
          "data": {
            "text/plain": [
              "                                                     text  \\\n",
              "0       If I smelled the scent of hand sanitizers toda...   \n",
              "1       Hey @Yankees @YankeesPR and @MLB - wouldn't it...   \n",
              "2       @diane3443 @wdunlap @realDonaldTrump Trump nev...   \n",
              "3       @brookbanktv The one gift #COVID19 has give me...   \n",
              "4       25 July : Media Bulletin on Novel #CoronaVirus...   \n",
              "...                                                   ...   \n",
              "179103  Thanks @IamOhmai for nominating me for the @WH...   \n",
              "179104  2020! The year of insanity! Lol! #COVID19 http...   \n",
              "179105  @CTVNews A powerful painting by Juan Lucena. I...   \n",
              "179106  More than 1,200 students test positive for #CO...   \n",
              "179107  I stop when I see a Stop\\n\\n@SABCNews\\n@Izinda...   \n",
              "\n",
              "                                              clean_tweet  \n",
              "0       If I smelled the scent of hand sanitizers toda...  \n",
              "1       Hey and  wouldnt it have made more sense to ha...  \n",
              "2        Trump never once claimed was a hoax We all cl...  \n",
              "3        The one gift has give me is an appreciation f...  \n",
              "4                      25 July : Media Bulletin on Novel   \n",
              "...                                                   ...  \n",
              "179103  Thanks for nominating me for the challenge I n...  \n",
              "179104                     2020 The year of insanity Lol   \n",
              "179105   A powerful painting by Juan Lucena Its a trib...  \n",
              "179106  More than 1200 students test positive for at m...  \n",
              "179107                          I stop when I see a Stop   \n",
              "\n",
              "[179108 rows x 2 columns]"
            ],
            "text/html": [
              "\n",
              "  <div id=\"df-c2771881-51d1-450f-982d-d975e23d1547\">\n",
              "    <div class=\"colab-df-container\">\n",
              "      <div>\n",
              "<style scoped>\n",
              "    .dataframe tbody tr th:only-of-type {\n",
              "        vertical-align: middle;\n",
              "    }\n",
              "\n",
              "    .dataframe tbody tr th {\n",
              "        vertical-align: top;\n",
              "    }\n",
              "\n",
              "    .dataframe thead th {\n",
              "        text-align: right;\n",
              "    }\n",
              "</style>\n",
              "<table border=\"1\" class=\"dataframe\">\n",
              "  <thead>\n",
              "    <tr style=\"text-align: right;\">\n",
              "      <th></th>\n",
              "      <th>text</th>\n",
              "      <th>clean_tweet</th>\n",
              "    </tr>\n",
              "  </thead>\n",
              "  <tbody>\n",
              "    <tr>\n",
              "      <th>0</th>\n",
              "      <td>If I smelled the scent of hand sanitizers toda...</td>\n",
              "      <td>If I smelled the scent of hand sanitizers toda...</td>\n",
              "    </tr>\n",
              "    <tr>\n",
              "      <th>1</th>\n",
              "      <td>Hey @Yankees @YankeesPR and @MLB - wouldn't it...</td>\n",
              "      <td>Hey and  wouldnt it have made more sense to ha...</td>\n",
              "    </tr>\n",
              "    <tr>\n",
              "      <th>2</th>\n",
              "      <td>@diane3443 @wdunlap @realDonaldTrump Trump nev...</td>\n",
              "      <td>Trump never once claimed was a hoax We all cl...</td>\n",
              "    </tr>\n",
              "    <tr>\n",
              "      <th>3</th>\n",
              "      <td>@brookbanktv The one gift #COVID19 has give me...</td>\n",
              "      <td>The one gift has give me is an appreciation f...</td>\n",
              "    </tr>\n",
              "    <tr>\n",
              "      <th>4</th>\n",
              "      <td>25 July : Media Bulletin on Novel #CoronaVirus...</td>\n",
              "      <td>25 July : Media Bulletin on Novel</td>\n",
              "    </tr>\n",
              "    <tr>\n",
              "      <th>...</th>\n",
              "      <td>...</td>\n",
              "      <td>...</td>\n",
              "    </tr>\n",
              "    <tr>\n",
              "      <th>179103</th>\n",
              "      <td>Thanks @IamOhmai for nominating me for the @WH...</td>\n",
              "      <td>Thanks for nominating me for the challenge I n...</td>\n",
              "    </tr>\n",
              "    <tr>\n",
              "      <th>179104</th>\n",
              "      <td>2020! The year of insanity! Lol! #COVID19 http...</td>\n",
              "      <td>2020 The year of insanity Lol</td>\n",
              "    </tr>\n",
              "    <tr>\n",
              "      <th>179105</th>\n",
              "      <td>@CTVNews A powerful painting by Juan Lucena. I...</td>\n",
              "      <td>A powerful painting by Juan Lucena Its a trib...</td>\n",
              "    </tr>\n",
              "    <tr>\n",
              "      <th>179106</th>\n",
              "      <td>More than 1,200 students test positive for #CO...</td>\n",
              "      <td>More than 1200 students test positive for at m...</td>\n",
              "    </tr>\n",
              "    <tr>\n",
              "      <th>179107</th>\n",
              "      <td>I stop when I see a Stop\\n\\n@SABCNews\\n@Izinda...</td>\n",
              "      <td>I stop when I see a Stop</td>\n",
              "    </tr>\n",
              "  </tbody>\n",
              "</table>\n",
              "<p>179108 rows × 2 columns</p>\n",
              "</div>\n",
              "      <button class=\"colab-df-convert\" onclick=\"convertToInteractive('df-c2771881-51d1-450f-982d-d975e23d1547')\"\n",
              "              title=\"Convert this dataframe to an interactive table.\"\n",
              "              style=\"display:none;\">\n",
              "        \n",
              "  <svg xmlns=\"http://www.w3.org/2000/svg\" height=\"24px\"viewBox=\"0 0 24 24\"\n",
              "       width=\"24px\">\n",
              "    <path d=\"M0 0h24v24H0V0z\" fill=\"none\"/>\n",
              "    <path d=\"M18.56 5.44l.94 2.06.94-2.06 2.06-.94-2.06-.94-.94-2.06-.94 2.06-2.06.94zm-11 1L8.5 8.5l.94-2.06 2.06-.94-2.06-.94L8.5 2.5l-.94 2.06-2.06.94zm10 10l.94 2.06.94-2.06 2.06-.94-2.06-.94-.94-2.06-.94 2.06-2.06.94z\"/><path d=\"M17.41 7.96l-1.37-1.37c-.4-.4-.92-.59-1.43-.59-.52 0-1.04.2-1.43.59L10.3 9.45l-7.72 7.72c-.78.78-.78 2.05 0 2.83L4 21.41c.39.39.9.59 1.41.59.51 0 1.02-.2 1.41-.59l7.78-7.78 2.81-2.81c.8-.78.8-2.07 0-2.86zM5.41 20L4 18.59l7.72-7.72 1.47 1.35L5.41 20z\"/>\n",
              "  </svg>\n",
              "      </button>\n",
              "      \n",
              "  <style>\n",
              "    .colab-df-container {\n",
              "      display:flex;\n",
              "      flex-wrap:wrap;\n",
              "      gap: 12px;\n",
              "    }\n",
              "\n",
              "    .colab-df-convert {\n",
              "      background-color: #E8F0FE;\n",
              "      border: none;\n",
              "      border-radius: 50%;\n",
              "      cursor: pointer;\n",
              "      display: none;\n",
              "      fill: #1967D2;\n",
              "      height: 32px;\n",
              "      padding: 0 0 0 0;\n",
              "      width: 32px;\n",
              "    }\n",
              "\n",
              "    .colab-df-convert:hover {\n",
              "      background-color: #E2EBFA;\n",
              "      box-shadow: 0px 1px 2px rgba(60, 64, 67, 0.3), 0px 1px 3px 1px rgba(60, 64, 67, 0.15);\n",
              "      fill: #174EA6;\n",
              "    }\n",
              "\n",
              "    [theme=dark] .colab-df-convert {\n",
              "      background-color: #3B4455;\n",
              "      fill: #D2E3FC;\n",
              "    }\n",
              "\n",
              "    [theme=dark] .colab-df-convert:hover {\n",
              "      background-color: #434B5C;\n",
              "      box-shadow: 0px 1px 3px 1px rgba(0, 0, 0, 0.15);\n",
              "      filter: drop-shadow(0px 1px 2px rgba(0, 0, 0, 0.3));\n",
              "      fill: #FFFFFF;\n",
              "    }\n",
              "  </style>\n",
              "\n",
              "      <script>\n",
              "        const buttonEl =\n",
              "          document.querySelector('#df-c2771881-51d1-450f-982d-d975e23d1547 button.colab-df-convert');\n",
              "        buttonEl.style.display =\n",
              "          google.colab.kernel.accessAllowed ? 'block' : 'none';\n",
              "\n",
              "        async function convertToInteractive(key) {\n",
              "          const element = document.querySelector('#df-c2771881-51d1-450f-982d-d975e23d1547');\n",
              "          const dataTable =\n",
              "            await google.colab.kernel.invokeFunction('convertToInteractive',\n",
              "                                                     [key], {});\n",
              "          if (!dataTable) return;\n",
              "\n",
              "          const docLinkHtml = 'Like what you see? Visit the ' +\n",
              "            '<a target=\"_blank\" href=https://colab.research.google.com/notebooks/data_table.ipynb>data table notebook</a>'\n",
              "            + ' to learn more about interactive tables.';\n",
              "          element.innerHTML = '';\n",
              "          dataTable['output_type'] = 'display_data';\n",
              "          await google.colab.output.renderOutput(dataTable, element);\n",
              "          const docLink = document.createElement('div');\n",
              "          docLink.innerHTML = docLinkHtml;\n",
              "          element.appendChild(docLink);\n",
              "        }\n",
              "      </script>\n",
              "    </div>\n",
              "  </div>\n",
              "  "
            ]
          },
          "metadata": {},
          "execution_count": 50
        }
      ]
    },
    {
      "cell_type": "code",
      "source": [
        "from textblob import TextBlob    #subject= near 1(high) means personal than factual"
      ],
      "metadata": {
        "id": "CeUd6ONp_RGA"
      },
      "execution_count": null,
      "outputs": []
    },
    {
      "cell_type": "code",
      "source": [
        "def get_sentiment(text):\n",
        "  blob = TextBlob(text)\n",
        "  sentiment_polarity = blob.sentiment.polarity\n",
        "  sentiment_subjectivity = blob.sentiment.subjectivity \n",
        "  if sentiment_polarity > 0:\n",
        "    sentiment_label = 'Positive'\n",
        "  elif sentiment_polarity < 0:\n",
        "    sentiment_label = 'Negative'\n",
        "  else:\n",
        "    sentiment_label = 'Neutral'\n",
        "  result ={'polarity':sentiment_polarity,\n",
        "           'subjectivity': sentiment_subjectivity ,\n",
        "           'sentiment': sentiment_label}\n",
        "  return result"
      ],
      "metadata": {
        "id": "OZjTjeys_bFa"
      },
      "execution_count": null,
      "outputs": []
    },
    {
      "cell_type": "code",
      "source": [
        "example=df['clean_tweet'].iloc[1]"
      ],
      "metadata": {
        "id": "O7Y3vz11VPjj"
      },
      "execution_count": null,
      "outputs": []
    },
    {
      "cell_type": "code",
      "source": [
        "get_sentiment(example)"
      ],
      "metadata": {
        "colab": {
          "base_uri": "https://localhost:8080/"
        },
        "id": "bIXfStl7VUEP",
        "outputId": "b9bccdfe-3942-4191-9975-71ef119937b5"
      },
      "execution_count": null,
      "outputs": [
        {
          "output_type": "execute_result",
          "data": {
            "text/plain": [
              "{'polarity': 0.5, 'sentiment': 'Positive', 'subjectivity': 0.5}"
            ]
          },
          "metadata": {},
          "execution_count": 54
        }
      ]
    },
    {
      "cell_type": "code",
      "source": [
        "df['sentiment_results'] = df['clean_tweet'].apply(get_sentiment)"
      ],
      "metadata": {
        "id": "WBgTNEtUVsZ6"
      },
      "execution_count": null,
      "outputs": []
    },
    {
      "cell_type": "code",
      "source": [
        "df['sentiment_results']"
      ],
      "metadata": {
        "colab": {
          "base_uri": "https://localhost:8080/"
        },
        "id": "VP1o0DRPYDTK",
        "outputId": "f9490924-767d-4fd0-a243-c78f790d4b42"
      },
      "execution_count": null,
      "outputs": [
        {
          "output_type": "execute_result",
          "data": {
            "text/plain": [
              "0         {'polarity': -0.25, 'subjectivity': 0.25, 'sen...\n",
              "1         {'polarity': 0.5, 'subjectivity': 0.5, 'sentim...\n",
              "2         {'polarity': 0.0, 'subjectivity': 0.0, 'sentim...\n",
              "3         {'polarity': 0.0, 'subjectivity': 0.3571428571...\n",
              "4         {'polarity': 0.0, 'subjectivity': 0.0, 'sentim...\n",
              "                                ...                        \n",
              "179103    {'polarity': 0.2, 'subjectivity': 0.2, 'sentim...\n",
              "179104    {'polarity': 0.8, 'subjectivity': 0.7, 'sentim...\n",
              "179105    {'polarity': 0.3, 'subjectivity': 1.0, 'sentim...\n",
              "179106    {'polarity': 0.26325757575757575, 'subjectivit...\n",
              "179107    {'polarity': 0.0, 'subjectivity': 0.0, 'sentim...\n",
              "Name: sentiment_results, Length: 179108, dtype: object"
            ]
          },
          "metadata": {},
          "execution_count": 56
        }
      ]
    },
    {
      "cell_type": "code",
      "source": [
        "df['sentiment_results'].iloc[0]"
      ],
      "metadata": {
        "colab": {
          "base_uri": "https://localhost:8080/"
        },
        "id": "lP3uRgWbYPfc",
        "outputId": "f8f940f0-e4ab-4154-e6a8-30c7877ca0d5"
      },
      "execution_count": null,
      "outputs": [
        {
          "output_type": "execute_result",
          "data": {
            "text/plain": [
              "{'polarity': -0.25, 'sentiment': 'Negative', 'subjectivity': 0.25}"
            ]
          },
          "metadata": {},
          "execution_count": 57
        }
      ]
    },
    {
      "cell_type": "code",
      "source": [
        "pd.json_normalize(df['sentiment_results'].iloc[0])"
      ],
      "metadata": {
        "colab": {
          "base_uri": "https://localhost:8080/",
          "height": 81
        },
        "id": "NnjnP0T8Yep7",
        "outputId": "0e7baedc-0b47-4dee-9d66-3063ba06d2ed"
      },
      "execution_count": null,
      "outputs": [
        {
          "output_type": "execute_result",
          "data": {
            "text/plain": [
              "   polarity  subjectivity sentiment\n",
              "0     -0.25          0.25  Negative"
            ],
            "text/html": [
              "\n",
              "  <div id=\"df-8b603902-31a5-4bbe-a78a-b61189915972\">\n",
              "    <div class=\"colab-df-container\">\n",
              "      <div>\n",
              "<style scoped>\n",
              "    .dataframe tbody tr th:only-of-type {\n",
              "        vertical-align: middle;\n",
              "    }\n",
              "\n",
              "    .dataframe tbody tr th {\n",
              "        vertical-align: top;\n",
              "    }\n",
              "\n",
              "    .dataframe thead th {\n",
              "        text-align: right;\n",
              "    }\n",
              "</style>\n",
              "<table border=\"1\" class=\"dataframe\">\n",
              "  <thead>\n",
              "    <tr style=\"text-align: right;\">\n",
              "      <th></th>\n",
              "      <th>polarity</th>\n",
              "      <th>subjectivity</th>\n",
              "      <th>sentiment</th>\n",
              "    </tr>\n",
              "  </thead>\n",
              "  <tbody>\n",
              "    <tr>\n",
              "      <th>0</th>\n",
              "      <td>-0.25</td>\n",
              "      <td>0.25</td>\n",
              "      <td>Negative</td>\n",
              "    </tr>\n",
              "  </tbody>\n",
              "</table>\n",
              "</div>\n",
              "      <button class=\"colab-df-convert\" onclick=\"convertToInteractive('df-8b603902-31a5-4bbe-a78a-b61189915972')\"\n",
              "              title=\"Convert this dataframe to an interactive table.\"\n",
              "              style=\"display:none;\">\n",
              "        \n",
              "  <svg xmlns=\"http://www.w3.org/2000/svg\" height=\"24px\"viewBox=\"0 0 24 24\"\n",
              "       width=\"24px\">\n",
              "    <path d=\"M0 0h24v24H0V0z\" fill=\"none\"/>\n",
              "    <path d=\"M18.56 5.44l.94 2.06.94-2.06 2.06-.94-2.06-.94-.94-2.06-.94 2.06-2.06.94zm-11 1L8.5 8.5l.94-2.06 2.06-.94-2.06-.94L8.5 2.5l-.94 2.06-2.06.94zm10 10l.94 2.06.94-2.06 2.06-.94-2.06-.94-.94-2.06-.94 2.06-2.06.94z\"/><path d=\"M17.41 7.96l-1.37-1.37c-.4-.4-.92-.59-1.43-.59-.52 0-1.04.2-1.43.59L10.3 9.45l-7.72 7.72c-.78.78-.78 2.05 0 2.83L4 21.41c.39.39.9.59 1.41.59.51 0 1.02-.2 1.41-.59l7.78-7.78 2.81-2.81c.8-.78.8-2.07 0-2.86zM5.41 20L4 18.59l7.72-7.72 1.47 1.35L5.41 20z\"/>\n",
              "  </svg>\n",
              "      </button>\n",
              "      \n",
              "  <style>\n",
              "    .colab-df-container {\n",
              "      display:flex;\n",
              "      flex-wrap:wrap;\n",
              "      gap: 12px;\n",
              "    }\n",
              "\n",
              "    .colab-df-convert {\n",
              "      background-color: #E8F0FE;\n",
              "      border: none;\n",
              "      border-radius: 50%;\n",
              "      cursor: pointer;\n",
              "      display: none;\n",
              "      fill: #1967D2;\n",
              "      height: 32px;\n",
              "      padding: 0 0 0 0;\n",
              "      width: 32px;\n",
              "    }\n",
              "\n",
              "    .colab-df-convert:hover {\n",
              "      background-color: #E2EBFA;\n",
              "      box-shadow: 0px 1px 2px rgba(60, 64, 67, 0.3), 0px 1px 3px 1px rgba(60, 64, 67, 0.15);\n",
              "      fill: #174EA6;\n",
              "    }\n",
              "\n",
              "    [theme=dark] .colab-df-convert {\n",
              "      background-color: #3B4455;\n",
              "      fill: #D2E3FC;\n",
              "    }\n",
              "\n",
              "    [theme=dark] .colab-df-convert:hover {\n",
              "      background-color: #434B5C;\n",
              "      box-shadow: 0px 1px 3px 1px rgba(0, 0, 0, 0.15);\n",
              "      filter: drop-shadow(0px 1px 2px rgba(0, 0, 0, 0.3));\n",
              "      fill: #FFFFFF;\n",
              "    }\n",
              "  </style>\n",
              "\n",
              "      <script>\n",
              "        const buttonEl =\n",
              "          document.querySelector('#df-8b603902-31a5-4bbe-a78a-b61189915972 button.colab-df-convert');\n",
              "        buttonEl.style.display =\n",
              "          google.colab.kernel.accessAllowed ? 'block' : 'none';\n",
              "\n",
              "        async function convertToInteractive(key) {\n",
              "          const element = document.querySelector('#df-8b603902-31a5-4bbe-a78a-b61189915972');\n",
              "          const dataTable =\n",
              "            await google.colab.kernel.invokeFunction('convertToInteractive',\n",
              "                                                     [key], {});\n",
              "          if (!dataTable) return;\n",
              "\n",
              "          const docLinkHtml = 'Like what you see? Visit the ' +\n",
              "            '<a target=\"_blank\" href=https://colab.research.google.com/notebooks/data_table.ipynb>data table notebook</a>'\n",
              "            + ' to learn more about interactive tables.';\n",
              "          element.innerHTML = '';\n",
              "          dataTable['output_type'] = 'display_data';\n",
              "          await google.colab.output.renderOutput(dataTable, element);\n",
              "          const docLink = document.createElement('div');\n",
              "          docLink.innerHTML = docLinkHtml;\n",
              "          element.appendChild(docLink);\n",
              "        }\n",
              "      </script>\n",
              "    </div>\n",
              "  </div>\n",
              "  "
            ]
          },
          "metadata": {},
          "execution_count": 58
        }
      ]
    },
    {
      "cell_type": "code",
      "source": [
        "df = df.join(pd.json_normalize(df['sentiment_results']))"
      ],
      "metadata": {
        "id": "ZiSHndWWZBoW"
      },
      "execution_count": null,
      "outputs": []
    },
    {
      "cell_type": "code",
      "source": [
        "df.head()"
      ],
      "metadata": {
        "colab": {
          "base_uri": "https://localhost:8080/",
          "height": 583
        },
        "id": "KgWQk2ETd5iF",
        "outputId": "0fcb2375-3823-41b6-f488-fc3480991893"
      },
      "execution_count": null,
      "outputs": [
        {
          "output_type": "execute_result",
          "data": {
            "text/plain": [
              "         user_name         user_location  \\\n",
              "0           ᏉᎥ☻լꂅϮ            astroworld   \n",
              "1    Tom Basile 🇺🇸          New York, NY   \n",
              "2  Time4fisticuffs      Pewee Valley, KY   \n",
              "3      ethel mertz  Stuck in the Middle    \n",
              "4         DIPR-J&K     Jammu and Kashmir   \n",
              "\n",
              "                                    user_description         user_created  \\\n",
              "0  wednesday addams as a disney princess keepin i...  2017-05-26 05:46:42   \n",
              "1  Husband, Father, Columnist & Commentator. Auth...  2009-04-16 20:06:23   \n",
              "2  #Christian #Catholic #Conservative #Reagan #Re...  2009-02-28 18:57:41   \n",
              "3  #Browns #Indians #ClevelandProud #[]_[] #Cavs ...  2019-03-07 01:45:06   \n",
              "4  🖊️Official Twitter handle of Department of Inf...  2017-02-12 06:45:15   \n",
              "\n",
              "   user_followers  user_friends  user_favourites  user_verified  \\\n",
              "0             624           950            18775          False   \n",
              "1            2253          1677               24           True   \n",
              "2            9275          9525             7254          False   \n",
              "3             197           987             1488          False   \n",
              "4          101009           168              101          False   \n",
              "\n",
              "                  date                                               text  \\\n",
              "0  2020-07-25 12:27:21  If I smelled the scent of hand sanitizers toda...   \n",
              "1  2020-07-25 12:27:17  Hey @Yankees @YankeesPR and @MLB - wouldn't it...   \n",
              "2  2020-07-25 12:27:14  @diane3443 @wdunlap @realDonaldTrump Trump nev...   \n",
              "3  2020-07-25 12:27:10  @brookbanktv The one gift #COVID19 has give me...   \n",
              "4  2020-07-25 12:27:08  25 July : Media Bulletin on Novel #CoronaVirus...   \n",
              "\n",
              "                            hashtags               source  is_retweet  \\\n",
              "0                                NaN   Twitter for iPhone       False   \n",
              "1                                NaN  Twitter for Android       False   \n",
              "2                        ['COVID19']  Twitter for Android       False   \n",
              "3                        ['COVID19']   Twitter for iPhone       False   \n",
              "4  ['CoronaVirusUpdates', 'COVID19']  Twitter for Android       False   \n",
              "\n",
              "                                         clean_tweet  \\\n",
              "0  If I smelled the scent of hand sanitizers toda...   \n",
              "1  Hey and  wouldnt it have made more sense to ha...   \n",
              "2   Trump never once claimed was a hoax We all cl...   \n",
              "3   The one gift has give me is an appreciation f...   \n",
              "4                 25 July : Media Bulletin on Novel    \n",
              "\n",
              "                                   sentiment_results  polarity  subjectivity  \\\n",
              "0  {'polarity': -0.25, 'subjectivity': 0.25, 'sen...     -0.25      0.250000   \n",
              "1  {'polarity': 0.5, 'subjectivity': 0.5, 'sentim...      0.50      0.500000   \n",
              "2  {'polarity': 0.0, 'subjectivity': 0.0, 'sentim...      0.00      0.000000   \n",
              "3  {'polarity': 0.0, 'subjectivity': 0.3571428571...      0.00      0.357143   \n",
              "4  {'polarity': 0.0, 'subjectivity': 0.0, 'sentim...      0.00      0.000000   \n",
              "\n",
              "  sentiment  \n",
              "0  Negative  \n",
              "1  Positive  \n",
              "2   Neutral  \n",
              "3   Neutral  \n",
              "4   Neutral  "
            ],
            "text/html": [
              "\n",
              "  <div id=\"df-e6aa46a8-030e-4964-8ffd-eaf97dce1f04\">\n",
              "    <div class=\"colab-df-container\">\n",
              "      <div>\n",
              "<style scoped>\n",
              "    .dataframe tbody tr th:only-of-type {\n",
              "        vertical-align: middle;\n",
              "    }\n",
              "\n",
              "    .dataframe tbody tr th {\n",
              "        vertical-align: top;\n",
              "    }\n",
              "\n",
              "    .dataframe thead th {\n",
              "        text-align: right;\n",
              "    }\n",
              "</style>\n",
              "<table border=\"1\" class=\"dataframe\">\n",
              "  <thead>\n",
              "    <tr style=\"text-align: right;\">\n",
              "      <th></th>\n",
              "      <th>user_name</th>\n",
              "      <th>user_location</th>\n",
              "      <th>user_description</th>\n",
              "      <th>user_created</th>\n",
              "      <th>user_followers</th>\n",
              "      <th>user_friends</th>\n",
              "      <th>user_favourites</th>\n",
              "      <th>user_verified</th>\n",
              "      <th>date</th>\n",
              "      <th>text</th>\n",
              "      <th>hashtags</th>\n",
              "      <th>source</th>\n",
              "      <th>is_retweet</th>\n",
              "      <th>clean_tweet</th>\n",
              "      <th>sentiment_results</th>\n",
              "      <th>polarity</th>\n",
              "      <th>subjectivity</th>\n",
              "      <th>sentiment</th>\n",
              "    </tr>\n",
              "  </thead>\n",
              "  <tbody>\n",
              "    <tr>\n",
              "      <th>0</th>\n",
              "      <td>ᏉᎥ☻լꂅϮ</td>\n",
              "      <td>astroworld</td>\n",
              "      <td>wednesday addams as a disney princess keepin i...</td>\n",
              "      <td>2017-05-26 05:46:42</td>\n",
              "      <td>624</td>\n",
              "      <td>950</td>\n",
              "      <td>18775</td>\n",
              "      <td>False</td>\n",
              "      <td>2020-07-25 12:27:21</td>\n",
              "      <td>If I smelled the scent of hand sanitizers toda...</td>\n",
              "      <td>NaN</td>\n",
              "      <td>Twitter for iPhone</td>\n",
              "      <td>False</td>\n",
              "      <td>If I smelled the scent of hand sanitizers toda...</td>\n",
              "      <td>{'polarity': -0.25, 'subjectivity': 0.25, 'sen...</td>\n",
              "      <td>-0.25</td>\n",
              "      <td>0.250000</td>\n",
              "      <td>Negative</td>\n",
              "    </tr>\n",
              "    <tr>\n",
              "      <th>1</th>\n",
              "      <td>Tom Basile 🇺🇸</td>\n",
              "      <td>New York, NY</td>\n",
              "      <td>Husband, Father, Columnist &amp; Commentator. Auth...</td>\n",
              "      <td>2009-04-16 20:06:23</td>\n",
              "      <td>2253</td>\n",
              "      <td>1677</td>\n",
              "      <td>24</td>\n",
              "      <td>True</td>\n",
              "      <td>2020-07-25 12:27:17</td>\n",
              "      <td>Hey @Yankees @YankeesPR and @MLB - wouldn't it...</td>\n",
              "      <td>NaN</td>\n",
              "      <td>Twitter for Android</td>\n",
              "      <td>False</td>\n",
              "      <td>Hey and  wouldnt it have made more sense to ha...</td>\n",
              "      <td>{'polarity': 0.5, 'subjectivity': 0.5, 'sentim...</td>\n",
              "      <td>0.50</td>\n",
              "      <td>0.500000</td>\n",
              "      <td>Positive</td>\n",
              "    </tr>\n",
              "    <tr>\n",
              "      <th>2</th>\n",
              "      <td>Time4fisticuffs</td>\n",
              "      <td>Pewee Valley, KY</td>\n",
              "      <td>#Christian #Catholic #Conservative #Reagan #Re...</td>\n",
              "      <td>2009-02-28 18:57:41</td>\n",
              "      <td>9275</td>\n",
              "      <td>9525</td>\n",
              "      <td>7254</td>\n",
              "      <td>False</td>\n",
              "      <td>2020-07-25 12:27:14</td>\n",
              "      <td>@diane3443 @wdunlap @realDonaldTrump Trump nev...</td>\n",
              "      <td>['COVID19']</td>\n",
              "      <td>Twitter for Android</td>\n",
              "      <td>False</td>\n",
              "      <td>Trump never once claimed was a hoax We all cl...</td>\n",
              "      <td>{'polarity': 0.0, 'subjectivity': 0.0, 'sentim...</td>\n",
              "      <td>0.00</td>\n",
              "      <td>0.000000</td>\n",
              "      <td>Neutral</td>\n",
              "    </tr>\n",
              "    <tr>\n",
              "      <th>3</th>\n",
              "      <td>ethel mertz</td>\n",
              "      <td>Stuck in the Middle</td>\n",
              "      <td>#Browns #Indians #ClevelandProud #[]_[] #Cavs ...</td>\n",
              "      <td>2019-03-07 01:45:06</td>\n",
              "      <td>197</td>\n",
              "      <td>987</td>\n",
              "      <td>1488</td>\n",
              "      <td>False</td>\n",
              "      <td>2020-07-25 12:27:10</td>\n",
              "      <td>@brookbanktv The one gift #COVID19 has give me...</td>\n",
              "      <td>['COVID19']</td>\n",
              "      <td>Twitter for iPhone</td>\n",
              "      <td>False</td>\n",
              "      <td>The one gift has give me is an appreciation f...</td>\n",
              "      <td>{'polarity': 0.0, 'subjectivity': 0.3571428571...</td>\n",
              "      <td>0.00</td>\n",
              "      <td>0.357143</td>\n",
              "      <td>Neutral</td>\n",
              "    </tr>\n",
              "    <tr>\n",
              "      <th>4</th>\n",
              "      <td>DIPR-J&amp;K</td>\n",
              "      <td>Jammu and Kashmir</td>\n",
              "      <td>🖊️Official Twitter handle of Department of Inf...</td>\n",
              "      <td>2017-02-12 06:45:15</td>\n",
              "      <td>101009</td>\n",
              "      <td>168</td>\n",
              "      <td>101</td>\n",
              "      <td>False</td>\n",
              "      <td>2020-07-25 12:27:08</td>\n",
              "      <td>25 July : Media Bulletin on Novel #CoronaVirus...</td>\n",
              "      <td>['CoronaVirusUpdates', 'COVID19']</td>\n",
              "      <td>Twitter for Android</td>\n",
              "      <td>False</td>\n",
              "      <td>25 July : Media Bulletin on Novel</td>\n",
              "      <td>{'polarity': 0.0, 'subjectivity': 0.0, 'sentim...</td>\n",
              "      <td>0.00</td>\n",
              "      <td>0.000000</td>\n",
              "      <td>Neutral</td>\n",
              "    </tr>\n",
              "  </tbody>\n",
              "</table>\n",
              "</div>\n",
              "      <button class=\"colab-df-convert\" onclick=\"convertToInteractive('df-e6aa46a8-030e-4964-8ffd-eaf97dce1f04')\"\n",
              "              title=\"Convert this dataframe to an interactive table.\"\n",
              "              style=\"display:none;\">\n",
              "        \n",
              "  <svg xmlns=\"http://www.w3.org/2000/svg\" height=\"24px\"viewBox=\"0 0 24 24\"\n",
              "       width=\"24px\">\n",
              "    <path d=\"M0 0h24v24H0V0z\" fill=\"none\"/>\n",
              "    <path d=\"M18.56 5.44l.94 2.06.94-2.06 2.06-.94-2.06-.94-.94-2.06-.94 2.06-2.06.94zm-11 1L8.5 8.5l.94-2.06 2.06-.94-2.06-.94L8.5 2.5l-.94 2.06-2.06.94zm10 10l.94 2.06.94-2.06 2.06-.94-2.06-.94-.94-2.06-.94 2.06-2.06.94z\"/><path d=\"M17.41 7.96l-1.37-1.37c-.4-.4-.92-.59-1.43-.59-.52 0-1.04.2-1.43.59L10.3 9.45l-7.72 7.72c-.78.78-.78 2.05 0 2.83L4 21.41c.39.39.9.59 1.41.59.51 0 1.02-.2 1.41-.59l7.78-7.78 2.81-2.81c.8-.78.8-2.07 0-2.86zM5.41 20L4 18.59l7.72-7.72 1.47 1.35L5.41 20z\"/>\n",
              "  </svg>\n",
              "      </button>\n",
              "      \n",
              "  <style>\n",
              "    .colab-df-container {\n",
              "      display:flex;\n",
              "      flex-wrap:wrap;\n",
              "      gap: 12px;\n",
              "    }\n",
              "\n",
              "    .colab-df-convert {\n",
              "      background-color: #E8F0FE;\n",
              "      border: none;\n",
              "      border-radius: 50%;\n",
              "      cursor: pointer;\n",
              "      display: none;\n",
              "      fill: #1967D2;\n",
              "      height: 32px;\n",
              "      padding: 0 0 0 0;\n",
              "      width: 32px;\n",
              "    }\n",
              "\n",
              "    .colab-df-convert:hover {\n",
              "      background-color: #E2EBFA;\n",
              "      box-shadow: 0px 1px 2px rgba(60, 64, 67, 0.3), 0px 1px 3px 1px rgba(60, 64, 67, 0.15);\n",
              "      fill: #174EA6;\n",
              "    }\n",
              "\n",
              "    [theme=dark] .colab-df-convert {\n",
              "      background-color: #3B4455;\n",
              "      fill: #D2E3FC;\n",
              "    }\n",
              "\n",
              "    [theme=dark] .colab-df-convert:hover {\n",
              "      background-color: #434B5C;\n",
              "      box-shadow: 0px 1px 3px 1px rgba(0, 0, 0, 0.15);\n",
              "      filter: drop-shadow(0px 1px 2px rgba(0, 0, 0, 0.3));\n",
              "      fill: #FFFFFF;\n",
              "    }\n",
              "  </style>\n",
              "\n",
              "      <script>\n",
              "        const buttonEl =\n",
              "          document.querySelector('#df-e6aa46a8-030e-4964-8ffd-eaf97dce1f04 button.colab-df-convert');\n",
              "        buttonEl.style.display =\n",
              "          google.colab.kernel.accessAllowed ? 'block' : 'none';\n",
              "\n",
              "        async function convertToInteractive(key) {\n",
              "          const element = document.querySelector('#df-e6aa46a8-030e-4964-8ffd-eaf97dce1f04');\n",
              "          const dataTable =\n",
              "            await google.colab.kernel.invokeFunction('convertToInteractive',\n",
              "                                                     [key], {});\n",
              "          if (!dataTable) return;\n",
              "\n",
              "          const docLinkHtml = 'Like what you see? Visit the ' +\n",
              "            '<a target=\"_blank\" href=https://colab.research.google.com/notebooks/data_table.ipynb>data table notebook</a>'\n",
              "            + ' to learn more about interactive tables.';\n",
              "          element.innerHTML = '';\n",
              "          dataTable['output_type'] = 'display_data';\n",
              "          await google.colab.output.renderOutput(dataTable, element);\n",
              "          const docLink = document.createElement('div');\n",
              "          docLink.innerHTML = docLinkHtml;\n",
              "          element.appendChild(docLink);\n",
              "        }\n",
              "      </script>\n",
              "    </div>\n",
              "  </div>\n",
              "  "
            ]
          },
          "metadata": {},
          "execution_count": 60
        }
      ]
    },
    {
      "cell_type": "code",
      "source": [
        "df['sentiment'].value_counts()"
      ],
      "metadata": {
        "colab": {
          "base_uri": "https://localhost:8080/"
        },
        "id": "LZS8uueOeCbt",
        "outputId": "177b8e6b-a571-4a1b-b05a-dac0db0d9074"
      },
      "execution_count": null,
      "outputs": [
        {
          "output_type": "execute_result",
          "data": {
            "text/plain": [
              "Neutral     75490\n",
              "Positive    74154\n",
              "Negative    29464\n",
              "Name: sentiment, dtype: int64"
            ]
          },
          "metadata": {},
          "execution_count": 61
        }
      ]
    },
    {
      "cell_type": "code",
      "source": [
        "df['sentiment'].value_counts().plot(kind='bar')"
      ],
      "metadata": {
        "colab": {
          "base_uri": "https://localhost:8080/",
          "height": 317
        },
        "id": "MbauOuOEeLhi",
        "outputId": "ecf4040a-b9f5-4cbb-bc3f-367b3813827c"
      },
      "execution_count": null,
      "outputs": [
        {
          "output_type": "execute_result",
          "data": {
            "text/plain": [
              "<matplotlib.axes._subplots.AxesSubplot at 0x7f88314f7050>"
            ]
          },
          "metadata": {},
          "execution_count": 48
        },
        {
          "output_type": "display_data",
          "data": {
            "text/plain": [
              "<Figure size 432x288 with 1 Axes>"
            ],
            "image/png": "[encoded data removed]"
          },
          "metadata": {
            "needs_background": "light"
          }
        }
      ]
    },
    {
      "cell_type": "code",
      "source": [],
      "metadata": {
        "id": "2z8U2k7smgoc"
      },
      "execution_count": null,
      "outputs": []
    },
    {
      "cell_type": "code",
      "source": [
        "sns.countplot(df['sentiment'])"
      ],
      "metadata": {
        "colab": {
          "base_uri": "https://localhost:8080/",
          "height": 297
        },
        "id": "SzXfHTC1eSZp",
        "outputId": "8b28b8b8-ab9d-4b24-e47b-b3df0108618a"
      },
      "execution_count": null,
      "outputs": [
        {
          "output_type": "execute_result",
          "data": {
            "text/plain": [
              "<matplotlib.axes._subplots.AxesSubplot at 0x7f883154edd0>"
            ]
          },
          "metadata": {},
          "execution_count": 49
        },
        {
          "output_type": "display_data",
          "data": {
            "text/plain": [
              "<Figure size 432x288 with 1 Axes>"
            ],
            "image/png": "[encoded data removed]"
          },
          "metadata": {
            "needs_background": "light"
          }
        }
      ]
    },
    {
      "cell_type": "code",
      "source": [
        "import matplotlib.pyplot as plt \n",
        "plt.scatter(df['date'],df['sentiment'])\n",
        "plt.show()"
      ],
      "metadata": {
        "id": "Zt0ystapecsI",
        "colab": {
          "base_uri": "https://localhost:8080/",
          "height": 265
        },
        "outputId": "37720b25-af37-4e49-b1b6-4f996501e86d"
      },
      "execution_count": null,
      "outputs": [
        {
          "output_type": "display_data",
          "data": {
            "text/plain": [
              "<Figure size 432x288 with 1 Axes>"
            ],
            "image/png": "[encoded data removed]"
          },
          "metadata": {
            "needs_background": "light"
          }
        }
      ]
    },
    {
      "cell_type": "code",
      "source": [
        "\n",
        "sns.distplot(df['polarity'],hist=False)"
      ],
      "metadata": {
        "colab": {
          "base_uri": "https://localhost:8080/",
          "height": 297
        },
        "id": "UqwXNtP9Mq60",
        "outputId": "364264c8-5751-41a5-f4e0-04784714308f"
      },
      "execution_count": null,
      "outputs": [
        {
          "output_type": "execute_result",
          "data": {
            "text/plain": [
              "<matplotlib.axes._subplots.AxesSubplot at 0x7f882ef0ca90>"
            ]
          },
          "metadata": {},
          "execution_count": 51
        },
        {
          "output_type": "display_data",
          "data": {
            "text/plain": [
              "<Figure size 432x288 with 1 Axes>"
            ],
            "image/png": "[encoded data removed]"
          },
          "metadata": {
            "needs_background": "light"
          }
        }
      ]
    },
    {
      "cell_type": "code",
      "source": [
        "sns.relplot(x=\"polarity\", y=\"subjectivity\" , data = df, hue = 'sentiment')"
      ],
      "metadata": {
        "colab": {
          "base_uri": "https://localhost:8080/",
          "height": 387
        },
        "id": "kVGf02ILPfux",
        "outputId": "1f7f1fc1-e081-4164-c628-79a1a25425ef"
      },
      "execution_count": null,
      "outputs": [
        {
          "output_type": "execute_result",
          "data": {
            "text/plain": [
              "<seaborn.axisgrid.FacetGrid at 0x7f883154e510>"
            ]
          },
          "metadata": {},
          "execution_count": 52
        },
        {
          "output_type": "display_data",
          "data": {
            "text/plain": [
              "<Figure size 440.875x360 with 1 Axes>"
            ],
            "image/png": "[encoded data removed]"
          },
          "metadata": {
            "needs_background": "light"
          }
        }
      ]
    },
    {
      "cell_type": "code",
      "source": [],
      "metadata": {
        "id": "fqz2AZPsefN3"
      },
      "execution_count": null,
      "outputs": []
    }
  ]
}